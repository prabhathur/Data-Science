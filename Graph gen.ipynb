{
 "cells": [
  {
   "cell_type": "code",
   "execution_count": 4,
   "metadata": {},
   "outputs": [],
   "source": [
    "import os\n",
    "import pandas as pd\n",
    "import matplotlib.pyplot as plt\n",
    "import seaborn as sb\n",
    "import numpy as np"
   ]
  },
  {
   "cell_type": "code",
   "execution_count": 2,
   "metadata": {},
   "outputs": [],
   "source": [
    "#Function to check the variable type of a column\n",
    "def vartype(data,col,direc):\n",
    "    os.chdir(direc) #Changing working directory to the required one\n",
    "    file=pd.read_csv(data)\n",
    "    try:\n",
    "        file.loc[0,col] #Getting the column while is currently being iterated in graph function\n",
    "        if ((file[col].dtype=='float64' or file[col].dtype=='int64') and len(file[col].unique())>(0.1*file.shape[0])): #If variable is numeric type and no of unique values is more than 10% we will categorize as numeric\n",
    "            vtype='num'\n",
    "            return(vtype)\n",
    "        else:\n",
    "            vtype='cat' \n",
    "            return(vtype)\n",
    "    except:\n",
    "        vtype='noexist'\n",
    "        return(vtype)\n",
    "                    "
   ]
  },
  {
   "cell_type": "code",
   "execution_count": 3,
   "metadata": {},
   "outputs": [],
   "source": [
    "#Function to handle folder for saving graphs\n",
    "def direcheck(direc,fname,graph):\n",
    "    if not os.path.exists(direc+'\\\\'+fname[0:fname.find('.csv')]):#Checking if main folder exists\n",
    "        os.mkdir(fname[0:fname.find('.csv')]) #Making main directory if it doesnt exist\n",
    "        dire=direc+'\\\\'+fname[0:fname.find('.csv')] \n",
    "        os.chdir(dire) #Changing working directory to the main directory\n",
    "        os.mkdir(graph) #Creating sub directory indicating the type of graph\n",
    "        dire=direc+'\\\\'+fname[0:fname.find('.csv')]+'\\\\'+graph \n",
    "        os.chdir(dire) #Changing working directory to sub directory\n",
    "    else:\n",
    "        dire=direc+'\\\\'+fname[0:fname.find('.csv')] \n",
    "        os.chdir(dire)\n",
    "        if not os.path.exists(direc+'\\\\'+fname[0:fname.find('.csv')]+'\\\\'+graph): #If main directory exists we check for required sub directory\n",
    "            os.mkdir(graph) #If that doesnt exist a new sub directory is created\n",
    "            dire=direc+'\\\\'+fname[0:fname.find('.csv')]+'\\\\'+graph \n",
    "            os.chdir(dire) #Changing working directory to sub directory\n",
    "        else:\n",
    "            dire=direc+'\\\\'+fname[0:fname.find('.csv')]+'\\\\'+graph\n",
    "            os.chdir(dire) #If both main and sub directory exist we just change working directory to sub directory"
   ]
  },
  {
   "cell_type": "code",
   "execution_count": 17,
   "metadata": {},
   "outputs": [],
   "source": [
    "def graph(fname,col=None,direc='D:\\\\DS\\\\Machine learning\\\\Datasets',targ=None,transf=None): #Set the direc path to your default dataset directory\n",
    "    try:\n",
    "        os.chdir(direc) #Set working directory\n",
    "    except:\n",
    "        print('Path doesnt exist.Exiting')\n",
    "        return\n",
    "    try:\n",
    "        read=pd.read_csv(fname) #Reading the dataset\n",
    "    except:\n",
    "        print('File doesnt exist')\n",
    "        return\n",
    "    if col==None:\n",
    "        colu=read.columns #Setting list of columns to be used for plotting\n",
    "    else:\n",
    "        if col.find(',')==-1:\n",
    "            colu=list([col]) #Setting list of columns to be used for plotting\n",
    "        else:\n",
    "            colu=col #Setting list of columns to be used for plotting\n",
    "    targtype=vartype(fname,targ,direc) #Checking variable type of target variable\n",
    "    if targtype=='noexist':   \n",
    "        print('Target column doesnt exist')\n",
    "    for i in colu: #Iterating over the columns\n",
    "        vtype=vartype(fname,i,direc) #Checking variable type of currently iterating column\n",
    "        name=str(i)\n",
    "        if vtype=='num':\n",
    "            gname='hist_'+name #Naming the graph\n",
    "            direcheck(direc,fname,'Histogram Graphs') #Checking directories\n",
    "            plt.figure(figsize=(12,10))\n",
    "            sb.distplot(read[i],kde=False)#Histogram using Seaborn\n",
    "            plt.ylabel('Count')\n",
    "            plt.savefig(gname+'.png',format='png',dpi=400) #Saving the graph as png format with a good dpi\n",
    "            plt.clf() #Clearing the graph axis and labels for next graph plotting\n",
    "            gname='density_'+name #Naming the graph\n",
    "            direcheck(direc,fname,'Density Plots') #Checking directories\n",
    "            sb.distplot(read[i],hist=False) #Density plot using Seaborn\n",
    "            plt.ylabel('Count')\n",
    "            plt.savefig(gname+'.png',format='png',dpi=400) #Saving the graph as png format with a good dpi\n",
    "            plt.clf() #Clearing the graph axis and labels for next graph plotting\n",
    "            if targ!=None and targ!=name and targtype=='num':\n",
    "                direcheck(direc,fname,'Scatter Plots') #Checking directories\n",
    "                sb.lmplot(x=name,y=targ,data=read,fit_reg=False) #Scatter plot using Seaborn\n",
    "                gname='scatter_'+name+'_vs_'+targ #Naming the graph\n",
    "                plt.savefig(gname+'.png',format='png',dpi=400) #Saving the graph as png format with a good dpi\n",
    "                plt.clf() #Clearing the graph axis and labels for next graph plotting\n",
    "            if transf!=None and targ!=None and targ!=name and targtype=='num':\n",
    "                if transf=='log':\n",
    "                    read['temp']=np.log(read[name])\n",
    "                    direcheck(direc,fname,'Log Transformed Scatter Plots') #Checking directories\n",
    "                    sb.lmplot(x='temp',y=targ,data=read,fit_reg=False) #Scatter plot using Seaborn\n",
    "                    gname='Log transformed Scatter_'+name+'_vs_'+targ #Naming the graph\n",
    "                    plt.savefig(gname+'.png',format='png',dpi=400) #Saving the graph as png format with a good dpi\n",
    "                    plt.clf()\n",
    "                if transf=='sqrt':\n",
    "                    read['temp']=np.sqrt(read[name])\n",
    "                    direcheck(direc,fname,'Sqrt Transformed Scatter Plots') #Checking directories\n",
    "                    sb.lmplot(x='temp',y=targ,data=read,fit_reg=False) #Scatter plot using Seaborn\n",
    "                    gname='Sqrt transformed Scatter_'+name+'_vs_'+targ #Naming the graph\n",
    "                    plt.savefig(gname+'.png',format='png',dpi=400) #Saving the graph as png format with a good dpi\n",
    "                    plt.clf()\n",
    "        elif vtype=='cat':\n",
    "            direcheck(direc,fname,'Bar Graphs') #Checking directories\n",
    "            plt.figure(figsize=(12,10))    \n",
    "            sb.countplot(i,data=read) #Bar graphs using Seaborn\n",
    "            gname='bar_'+name #Naming the graph\n",
    "            plt.savefig(gname+'.png',format='png',dpi=400)\n",
    "            plt.clf() #Clearing the graph axis and labels for next graph plotting\n",
    "            if targ!=None and targ!=name and targtype=='cat':\n",
    "                direcheck(direc,fname,'CrossTab Graphs') #Checking directories\n",
    "                sb.countplot(x=name,hue=targ,data=read) #Cross tab count graphs using seaborn\n",
    "                gname='crosstab_'+name+'_vs_'+targ #Naming the graph\n",
    "                plt.savefig(gname+'.png',format='png',dpi=400) #Saving the graph as png format with a good dpi\n",
    "                plt.clf() #Clearing the graph axis and labels for next graph plotting\n",
    "        else:\n",
    "            print('Column %s'%name+' doesnt exist')"
   ]
  },
  {
   "cell_type": "code",
   "execution_count": 19,
   "metadata": {},
   "outputs": [
    {
     "data": {
      "text/plain": [
       "<Figure size 864x720 with 0 Axes>"
      ]
     },
     "metadata": {},
     "output_type": "display_data"
    },
    {
     "data": {
      "text/plain": [
       "<Figure size 864x720 with 0 Axes>"
      ]
     },
     "metadata": {},
     "output_type": "display_data"
    },
    {
     "data": {
      "text/plain": [
       "<Figure size 864x720 with 0 Axes>"
      ]
     },
     "metadata": {},
     "output_type": "display_data"
    },
    {
     "data": {
      "text/plain": [
       "<Figure size 864x720 with 0 Axes>"
      ]
     },
     "metadata": {},
     "output_type": "display_data"
    },
    {
     "data": {
      "text/plain": [
       "<Figure size 360x360 with 0 Axes>"
      ]
     },
     "metadata": {},
     "output_type": "display_data"
    },
    {
     "data": {
      "text/plain": [
       "<Figure size 360x360 with 0 Axes>"
      ]
     },
     "metadata": {},
     "output_type": "display_data"
    },
    {
     "data": {
      "text/plain": [
       "<Figure size 864x720 with 0 Axes>"
      ]
     },
     "metadata": {},
     "output_type": "display_data"
    },
    {
     "data": {
      "text/plain": [
       "<Figure size 360x360 with 0 Axes>"
      ]
     },
     "metadata": {},
     "output_type": "display_data"
    },
    {
     "data": {
      "text/plain": [
       "<Figure size 360x360 with 0 Axes>"
      ]
     },
     "metadata": {},
     "output_type": "display_data"
    },
    {
     "data": {
      "text/plain": [
       "<Figure size 864x720 with 0 Axes>"
      ]
     },
     "metadata": {},
     "output_type": "display_data"
    },
    {
     "data": {
      "text/plain": [
       "<Figure size 360x360 with 0 Axes>"
      ]
     },
     "metadata": {},
     "output_type": "display_data"
    },
    {
     "data": {
      "text/plain": [
       "<Figure size 360x360 with 0 Axes>"
      ]
     },
     "metadata": {},
     "output_type": "display_data"
    },
    {
     "data": {
      "text/plain": [
       "<Figure size 864x720 with 0 Axes>"
      ]
     },
     "metadata": {},
     "output_type": "display_data"
    },
    {
     "data": {
      "text/plain": [
       "<Figure size 360x360 with 0 Axes>"
      ]
     },
     "metadata": {},
     "output_type": "display_data"
    },
    {
     "data": {
      "text/plain": [
       "<Figure size 360x360 with 0 Axes>"
      ]
     },
     "metadata": {},
     "output_type": "display_data"
    },
    {
     "data": {
      "text/plain": [
       "<Figure size 864x720 with 0 Axes>"
      ]
     },
     "metadata": {},
     "output_type": "display_data"
    },
    {
     "data": {
      "text/plain": [
       "<Figure size 864x720 with 0 Axes>"
      ]
     },
     "metadata": {},
     "output_type": "display_data"
    }
   ],
   "source": [
    "graph('cars.csv',targ='MPG',transf='sqrt')"
   ]
  },
  {
   "cell_type": "code",
   "execution_count": null,
   "metadata": {},
   "outputs": [],
   "source": [
    "sb.'countplot'()"
   ]
  }
 ],
 "metadata": {
  "kernelspec": {
   "display_name": "Python 3",
   "language": "python",
   "name": "python3"
  },
  "language_info": {
   "codemirror_mode": {
    "name": "ipython",
    "version": 3
   },
   "file_extension": ".py",
   "mimetype": "text/x-python",
   "name": "python",
   "nbconvert_exporter": "python",
   "pygments_lexer": "ipython3",
   "version": "3.7.3"
  }
 },
 "nbformat": 4,
 "nbformat_minor": 2
}
