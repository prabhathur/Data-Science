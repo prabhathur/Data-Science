{
 "cells": [
  {
   "cell_type": "markdown",
   "metadata": {
    "toc": true
   },
   "source": [
    "<h1>Table of Contents<span class=\"tocSkip\"></span></h1>\n",
    "<div class=\"toc\"><ul class=\"toc-item\"><li><span><a href=\"#Linear-Regression\" data-toc-modified-id=\"Linear-Regression-1\"><span class=\"toc-item-num\">1&nbsp;&nbsp;</span>Linear Regression</a></span><ul class=\"toc-item\"><li><span><a href=\"#Feature-engineering\" data-toc-modified-id=\"Feature-engineering-1.1\"><span class=\"toc-item-num\">1.1&nbsp;&nbsp;</span>Feature engineering</a></span></li><li><span><a href=\"#Model-1\" data-toc-modified-id=\"Model-1-1.2\"><span class=\"toc-item-num\">1.2&nbsp;&nbsp;</span>Model 1</a></span></li><li><span><a href=\"#Testing-the-assumptions-of-linear-regression\" data-toc-modified-id=\"Testing-the-assumptions-of-linear-regression-1.3\"><span class=\"toc-item-num\">1.3&nbsp;&nbsp;</span>Testing the assumptions of linear regression</a></span></li><li><span><a href=\"#Model-2\" data-toc-modified-id=\"Model-2-1.4\"><span class=\"toc-item-num\">1.4&nbsp;&nbsp;</span>Model 2</a></span></li><li><span><a href=\"#Model-3\" data-toc-modified-id=\"Model-3-1.5\"><span class=\"toc-item-num\">1.5&nbsp;&nbsp;</span>Model 3</a></span></li></ul></li><li><span><a href=\"#Random-Forest-regressor\" data-toc-modified-id=\"Random-Forest-regressor-2\"><span class=\"toc-item-num\">2&nbsp;&nbsp;</span>Random Forest regressor</a></span><ul class=\"toc-item\"><li><span><a href=\"#Optimizing-random-forest\" data-toc-modified-id=\"Optimizing-random-forest-2.1\"><span class=\"toc-item-num\">2.1&nbsp;&nbsp;</span>Optimizing random forest</a></span></li><li><span><a href=\"#Prediction-&amp;-Water-Demand\" data-toc-modified-id=\"Prediction-&amp;-Water-Demand-2.2\"><span class=\"toc-item-num\">2.2&nbsp;&nbsp;</span>Prediction &amp; Water Demand</a></span></li></ul></li></ul></div>"
   ]
  },
  {
   "cell_type": "code",
   "execution_count": 391,
   "metadata": {
    "ExecuteTime": {
     "end_time": "2020-03-10T06:54:37.633108Z",
     "start_time": "2020-03-10T06:54:37.627122Z"
    }
   },
   "outputs": [],
   "source": [
    "import os\n",
    "import pandas as pd\n",
    "import matplotlib.pyplot as plt\n",
    "import seaborn as sb\n",
    "import statsmodels.api as stm\n",
    "import math\n",
    "from sklearn.model_selection import train_test_split\n",
    "import scipy.stats as stats\n",
    "import numpy as np\n",
    "from statsmodels.stats.stattools import durbin_watson\n",
    "from statsmodels.stats.diagnostic import het_breuschpagan\n",
    "from statsmodels.stats.diagnostic import het_white\n",
    "from statsmodels.stats.stattools import jarque_bera\n",
    "from sklearn.ensemble import RandomForestRegressor as rfr\n",
    "from sklearn.tree import DecisionTreeRegressor\n",
    "from sklearn.metrics import r2_score\n",
    "from sklearn.model_selection import GridSearchCV"
   ]
  },
  {
   "cell_type": "code",
   "execution_count": 2,
   "metadata": {
    "ExecuteTime": {
     "end_time": "2020-03-09T11:37:54.946219Z",
     "start_time": "2020-03-09T11:37:54.907250Z"
    }
   },
   "outputs": [],
   "source": [
    "os.chdir(r'D:\\DS\\Machine learning\\Datasets')"
   ]
  },
  {
   "cell_type": "code",
   "execution_count": 3,
   "metadata": {
    "ExecuteTime": {
     "end_time": "2020-03-09T11:37:55.041158Z",
     "start_time": "2020-03-09T11:37:54.951655Z"
    }
   },
   "outputs": [],
   "source": [
    "conc=pd.read_csv('concrete.csv')"
   ]
  },
  {
   "cell_type": "code",
   "execution_count": 4,
   "metadata": {
    "ExecuteTime": {
     "end_time": "2020-03-09T11:37:55.052132Z",
     "start_time": "2020-03-09T11:37:55.045146Z"
    }
   },
   "outputs": [],
   "source": [
    "conc.columns=['Cement','BFS','FlyAsh','Water','Admix','CA','FA','Age','CompressiveStrength']"
   ]
  },
  {
   "cell_type": "code",
   "execution_count": 5,
   "metadata": {
    "ExecuteTime": {
     "end_time": "2020-03-09T11:37:55.068652Z",
     "start_time": "2020-03-09T11:37:55.056682Z"
    }
   },
   "outputs": [
    {
     "data": {
      "text/plain": [
       "(1030, 9)"
      ]
     },
     "execution_count": 5,
     "metadata": {},
     "output_type": "execute_result"
    }
   ],
   "source": [
    "conc.shape"
   ]
  },
  {
   "cell_type": "code",
   "execution_count": 6,
   "metadata": {
    "ExecuteTime": {
     "end_time": "2020-03-09T11:37:55.096767Z",
     "start_time": "2020-03-09T11:37:55.072640Z"
    }
   },
   "outputs": [
    {
     "data": {
      "text/plain": [
       "Cement                 0\n",
       "BFS                    0\n",
       "FlyAsh                 0\n",
       "Water                  0\n",
       "Admix                  0\n",
       "CA                     0\n",
       "FA                     0\n",
       "Age                    0\n",
       "CompressiveStrength    0\n",
       "dtype: int64"
      ]
     },
     "execution_count": 6,
     "metadata": {},
     "output_type": "execute_result"
    }
   ],
   "source": [
    "conc.isna().sum()"
   ]
  },
  {
   "cell_type": "code",
   "execution_count": 7,
   "metadata": {
    "ExecuteTime": {
     "end_time": "2020-03-09T11:38:01.420412Z",
     "start_time": "2020-03-09T11:38:01.340263Z"
    }
   },
   "outputs": [
    {
     "data": {
      "text/html": [
       "<div>\n",
       "<style scoped>\n",
       "    .dataframe tbody tr th:only-of-type {\n",
       "        vertical-align: middle;\n",
       "    }\n",
       "\n",
       "    .dataframe tbody tr th {\n",
       "        vertical-align: top;\n",
       "    }\n",
       "\n",
       "    .dataframe thead th {\n",
       "        text-align: right;\n",
       "    }\n",
       "</style>\n",
       "<table border=\"1\" class=\"dataframe\">\n",
       "  <thead>\n",
       "    <tr style=\"text-align: right;\">\n",
       "      <th></th>\n",
       "      <th>Cement</th>\n",
       "      <th>BFS</th>\n",
       "      <th>FlyAsh</th>\n",
       "      <th>Water</th>\n",
       "      <th>Admix</th>\n",
       "      <th>CA</th>\n",
       "      <th>FA</th>\n",
       "      <th>Age</th>\n",
       "      <th>CompressiveStrength</th>\n",
       "    </tr>\n",
       "  </thead>\n",
       "  <tbody>\n",
       "    <tr>\n",
       "      <td>0</td>\n",
       "      <td>540.0</td>\n",
       "      <td>0.0</td>\n",
       "      <td>0.0</td>\n",
       "      <td>162.0</td>\n",
       "      <td>2.5</td>\n",
       "      <td>1040.0</td>\n",
       "      <td>676.0</td>\n",
       "      <td>28</td>\n",
       "      <td>79.99</td>\n",
       "    </tr>\n",
       "    <tr>\n",
       "      <td>1</td>\n",
       "      <td>540.0</td>\n",
       "      <td>0.0</td>\n",
       "      <td>0.0</td>\n",
       "      <td>162.0</td>\n",
       "      <td>2.5</td>\n",
       "      <td>1055.0</td>\n",
       "      <td>676.0</td>\n",
       "      <td>28</td>\n",
       "      <td>61.89</td>\n",
       "    </tr>\n",
       "    <tr>\n",
       "      <td>2</td>\n",
       "      <td>332.5</td>\n",
       "      <td>142.5</td>\n",
       "      <td>0.0</td>\n",
       "      <td>228.0</td>\n",
       "      <td>0.0</td>\n",
       "      <td>932.0</td>\n",
       "      <td>594.0</td>\n",
       "      <td>270</td>\n",
       "      <td>40.27</td>\n",
       "    </tr>\n",
       "    <tr>\n",
       "      <td>3</td>\n",
       "      <td>332.5</td>\n",
       "      <td>142.5</td>\n",
       "      <td>0.0</td>\n",
       "      <td>228.0</td>\n",
       "      <td>0.0</td>\n",
       "      <td>932.0</td>\n",
       "      <td>594.0</td>\n",
       "      <td>365</td>\n",
       "      <td>41.05</td>\n",
       "    </tr>\n",
       "    <tr>\n",
       "      <td>4</td>\n",
       "      <td>198.6</td>\n",
       "      <td>132.4</td>\n",
       "      <td>0.0</td>\n",
       "      <td>192.0</td>\n",
       "      <td>0.0</td>\n",
       "      <td>978.4</td>\n",
       "      <td>825.5</td>\n",
       "      <td>360</td>\n",
       "      <td>44.30</td>\n",
       "    </tr>\n",
       "  </tbody>\n",
       "</table>\n",
       "</div>"
      ],
      "text/plain": [
       "   Cement    BFS  FlyAsh  Water  Admix      CA     FA  Age  \\\n",
       "0   540.0    0.0     0.0  162.0    2.5  1040.0  676.0   28   \n",
       "1   540.0    0.0     0.0  162.0    2.5  1055.0  676.0   28   \n",
       "2   332.5  142.5     0.0  228.0    0.0   932.0  594.0  270   \n",
       "3   332.5  142.5     0.0  228.0    0.0   932.0  594.0  365   \n",
       "4   198.6  132.4     0.0  192.0    0.0   978.4  825.5  360   \n",
       "\n",
       "   CompressiveStrength  \n",
       "0                79.99  \n",
       "1                61.89  \n",
       "2                40.27  \n",
       "3                41.05  \n",
       "4                44.30  "
      ]
     },
     "execution_count": 7,
     "metadata": {},
     "output_type": "execute_result"
    }
   ],
   "source": [
    "conc.head()"
   ]
  },
  {
   "cell_type": "code",
   "execution_count": 8,
   "metadata": {
    "ExecuteTime": {
     "end_time": "2020-03-09T11:38:07.991320Z",
     "start_time": "2020-03-09T11:38:07.936010Z"
    }
   },
   "outputs": [],
   "source": [
    "conc.drop_duplicates(subset=['Cement','BFS','FlyAsh','Water','Admix','CA','FA','Age'],inplace=True)"
   ]
  },
  {
   "cell_type": "code",
   "execution_count": 9,
   "metadata": {
    "ExecuteTime": {
     "end_time": "2020-03-09T11:38:08.706773Z",
     "start_time": "2020-03-09T11:38:08.701839Z"
    }
   },
   "outputs": [
    {
     "data": {
      "text/plain": [
       "(992, 9)"
      ]
     },
     "execution_count": 9,
     "metadata": {},
     "output_type": "execute_result"
    }
   ],
   "source": [
    "conc.shape"
   ]
  },
  {
   "cell_type": "code",
   "execution_count": 10,
   "metadata": {
    "ExecuteTime": {
     "end_time": "2020-03-09T11:38:15.916448Z",
     "start_time": "2020-03-09T11:38:13.152689Z"
    }
   },
   "outputs": [
    {
     "data": {
      "image/png": "[encoded data removed]",
      "text/plain": [
       "<Figure size 1152x864 with 9 Axes>"
      ]
     },
     "metadata": {
      "needs_background": "light"
     },
     "output_type": "display_data"
    }
   ],
   "source": [
    "cols=conc.columns\n",
    "j=1\n",
    "plt.figure(figsize=(16,12))\n",
    "for i in cols:\n",
    "    plt.subplot(3,3,j)\n",
    "    j+=1\n",
    "    plt.hist(i,data=conc)\n",
    "    plt.xlabel(i)\n",
    "    plt.ylabel('Count')\n",
    "    plt.title('%s distribution'%i)\n",
    "plt.subplots_adjust(hspace=0.4,wspace=0.3)\n",
    "plt.show()"
   ]
  },
  {
   "cell_type": "code",
   "execution_count": 11,
   "metadata": {
    "ExecuteTime": {
     "end_time": "2020-03-09T11:38:29.391955Z",
     "start_time": "2020-03-09T11:38:27.826177Z"
    }
   },
   "outputs": [
    {
     "data": {
      "image/png": "[encoded data removed]",
      "text/plain": [
       "<Figure size 1152x864 with 9 Axes>"
      ]
     },
     "metadata": {
      "needs_background": "light"
     },
     "output_type": "display_data"
    }
   ],
   "source": [
    "cols=conc.columns\n",
    "j=1\n",
    "plt.figure(figsize=(16,12))\n",
    "for i in cols:\n",
    "    plt.subplot(3,3,j)\n",
    "    j+=1\n",
    "    plt.boxplot(i,data=conc)\n",
    "    plt.xlabel(i)\n",
    "    plt.ylabel('Count')\n",
    "    plt.title('%s boxplot'%i)\n",
    "plt.subplots_adjust(hspace=0.4,wspace=0.3)\n",
    "plt.show()"
   ]
  },
  {
   "cell_type": "code",
   "execution_count": 220,
   "metadata": {
    "ExecuteTime": {
     "end_time": "2020-03-09T17:16:54.630179Z",
     "start_time": "2020-03-09T17:16:54.591284Z"
    }
   },
   "outputs": [
    {
     "data": {
      "text/html": [
       "<div>\n",
       "<style scoped>\n",
       "    .dataframe tbody tr th:only-of-type {\n",
       "        vertical-align: middle;\n",
       "    }\n",
       "\n",
       "    .dataframe tbody tr th {\n",
       "        vertical-align: top;\n",
       "    }\n",
       "\n",
       "    .dataframe thead th {\n",
       "        text-align: right;\n",
       "    }\n",
       "</style>\n",
       "<table border=\"1\" class=\"dataframe\">\n",
       "  <thead>\n",
       "    <tr style=\"text-align: right;\">\n",
       "      <th></th>\n",
       "      <th>Cement</th>\n",
       "      <th>BFS</th>\n",
       "      <th>FlyAsh</th>\n",
       "      <th>Water</th>\n",
       "      <th>Admix</th>\n",
       "      <th>CA</th>\n",
       "      <th>FA</th>\n",
       "      <th>Age</th>\n",
       "      <th>CompressiveStrength</th>\n",
       "      <th>Cementitious</th>\n",
       "      <th>W/C</th>\n",
       "    </tr>\n",
       "  </thead>\n",
       "  <tbody>\n",
       "    <tr>\n",
       "      <td>count</td>\n",
       "      <td>992.000000</td>\n",
       "      <td>992.000000</td>\n",
       "      <td>992.000000</td>\n",
       "      <td>992.000000</td>\n",
       "      <td>992.000000</td>\n",
       "      <td>992.000000</td>\n",
       "      <td>992.000000</td>\n",
       "      <td>992.000000</td>\n",
       "      <td>992.000000</td>\n",
       "      <td>992.000000</td>\n",
       "      <td>992.000000</td>\n",
       "    </tr>\n",
       "    <tr>\n",
       "      <td>mean</td>\n",
       "      <td>276.872883</td>\n",
       "      <td>72.526915</td>\n",
       "      <td>55.058468</td>\n",
       "      <td>182.367742</td>\n",
       "      <td>5.963105</td>\n",
       "      <td>974.596774</td>\n",
       "      <td>773.080544</td>\n",
       "      <td>46.166331</td>\n",
       "      <td>35.164002</td>\n",
       "      <td>404.458266</td>\n",
       "      <td>0.475458</td>\n",
       "    </tr>\n",
       "    <tr>\n",
       "      <td>std</td>\n",
       "      <td>103.769630</td>\n",
       "      <td>86.479987</td>\n",
       "      <td>64.338774</td>\n",
       "      <td>21.319533</td>\n",
       "      <td>5.926532</td>\n",
       "      <td>78.050942</td>\n",
       "      <td>80.658836</td>\n",
       "      <td>64.049753</td>\n",
       "      <td>16.288544</td>\n",
       "      <td>90.703338</td>\n",
       "      <td>0.124653</td>\n",
       "    </tr>\n",
       "    <tr>\n",
       "      <td>min</td>\n",
       "      <td>102.000000</td>\n",
       "      <td>0.000000</td>\n",
       "      <td>0.000000</td>\n",
       "      <td>121.800000</td>\n",
       "      <td>0.000000</td>\n",
       "      <td>801.000000</td>\n",
       "      <td>594.000000</td>\n",
       "      <td>1.000000</td>\n",
       "      <td>2.330000</td>\n",
       "      <td>200.000000</td>\n",
       "      <td>0.235073</td>\n",
       "    </tr>\n",
       "    <tr>\n",
       "      <td>25%</td>\n",
       "      <td>190.300000</td>\n",
       "      <td>0.000000</td>\n",
       "      <td>0.000000</td>\n",
       "      <td>167.875000</td>\n",
       "      <td>0.000000</td>\n",
       "      <td>932.000000</td>\n",
       "      <td>729.750000</td>\n",
       "      <td>14.000000</td>\n",
       "      <td>23.517500</td>\n",
       "      <td>336.300000</td>\n",
       "      <td>0.397684</td>\n",
       "    </tr>\n",
       "    <tr>\n",
       "      <td>50%</td>\n",
       "      <td>259.950000</td>\n",
       "      <td>20.000000</td>\n",
       "      <td>0.000000</td>\n",
       "      <td>185.700000</td>\n",
       "      <td>6.000000</td>\n",
       "      <td>968.000000</td>\n",
       "      <td>780.000000</td>\n",
       "      <td>28.000000</td>\n",
       "      <td>33.745000</td>\n",
       "      <td>387.700000</td>\n",
       "      <td>0.480000</td>\n",
       "    </tr>\n",
       "    <tr>\n",
       "      <td>75%</td>\n",
       "      <td>339.000000</td>\n",
       "      <td>142.500000</td>\n",
       "      <td>118.300000</td>\n",
       "      <td>192.900000</td>\n",
       "      <td>9.900000</td>\n",
       "      <td>1038.500000</td>\n",
       "      <td>824.000000</td>\n",
       "      <td>56.000000</td>\n",
       "      <td>44.740000</td>\n",
       "      <td>475.000000</td>\n",
       "      <td>0.562011</td>\n",
       "    </tr>\n",
       "    <tr>\n",
       "      <td>max</td>\n",
       "      <td>540.000000</td>\n",
       "      <td>359.400000</td>\n",
       "      <td>200.100000</td>\n",
       "      <td>247.000000</td>\n",
       "      <td>32.200000</td>\n",
       "      <td>1145.000000</td>\n",
       "      <td>992.600000</td>\n",
       "      <td>365.000000</td>\n",
       "      <td>82.600000</td>\n",
       "      <td>640.000000</td>\n",
       "      <td>0.900000</td>\n",
       "    </tr>\n",
       "  </tbody>\n",
       "</table>\n",
       "</div>"
      ],
      "text/plain": [
       "           Cement         BFS      FlyAsh       Water       Admix  \\\n",
       "count  992.000000  992.000000  992.000000  992.000000  992.000000   \n",
       "mean   276.872883   72.526915   55.058468  182.367742    5.963105   \n",
       "std    103.769630   86.479987   64.338774   21.319533    5.926532   \n",
       "min    102.000000    0.000000    0.000000  121.800000    0.000000   \n",
       "25%    190.300000    0.000000    0.000000  167.875000    0.000000   \n",
       "50%    259.950000   20.000000    0.000000  185.700000    6.000000   \n",
       "75%    339.000000  142.500000  118.300000  192.900000    9.900000   \n",
       "max    540.000000  359.400000  200.100000  247.000000   32.200000   \n",
       "\n",
       "                CA          FA         Age  CompressiveStrength  Cementitious  \\\n",
       "count   992.000000  992.000000  992.000000           992.000000    992.000000   \n",
       "mean    974.596774  773.080544   46.166331            35.164002    404.458266   \n",
       "std      78.050942   80.658836   64.049753            16.288544     90.703338   \n",
       "min     801.000000  594.000000    1.000000             2.330000    200.000000   \n",
       "25%     932.000000  729.750000   14.000000            23.517500    336.300000   \n",
       "50%     968.000000  780.000000   28.000000            33.745000    387.700000   \n",
       "75%    1038.500000  824.000000   56.000000            44.740000    475.000000   \n",
       "max    1145.000000  992.600000  365.000000            82.600000    640.000000   \n",
       "\n",
       "              W/C  \n",
       "count  992.000000  \n",
       "mean     0.475458  \n",
       "std      0.124653  \n",
       "min      0.235073  \n",
       "25%      0.397684  \n",
       "50%      0.480000  \n",
       "75%      0.562011  \n",
       "max      0.900000  "
      ]
     },
     "execution_count": 220,
     "metadata": {},
     "output_type": "execute_result"
    }
   ],
   "source": [
    "conc.describe()"
   ]
  },
  {
   "cell_type": "code",
   "execution_count": 12,
   "metadata": {},
   "outputs": [
    {
     "data": {
      "image/png": "[encoded data removed]",
      "text/plain": [
       "<Figure size 1296x864 with 8 Axes>"
      ]
     },
     "metadata": {
      "needs_background": "light"
     },
     "output_type": "display_data"
    }
   ],
   "source": [
    "#Scatter plots\n",
    "conc2=conc.copy()\n",
    "conc2.drop(columns='CompressiveStrength',axis=1,inplace=True)\n",
    "cols=conc2.columns\n",
    "j=1\n",
    "plt.figure(figsize=(18,12))\n",
    "for i in cols:\n",
    "    plt.subplot(3,3,j)\n",
    "    j+=1\n",
    "    plt.scatter(i,'CompressiveStrength',data=conc)\n",
    "    plt.xlabel(i)\n",
    "    plt.ylabel('Strength')\n",
    "    plt.title('%s vs Strength Scatter'%i)\n",
    "plt.subplots_adjust(hspace=0.4,wspace=0.3)\n",
    "plt.show()"
   ]
  },
  {
   "cell_type": "code",
   "execution_count": 12,
   "metadata": {
    "ExecuteTime": {
     "end_time": "2020-03-09T11:39:17.460331Z",
     "start_time": "2020-03-09T11:39:14.024642Z"
    }
   },
   "outputs": [
    {
     "data": {
      "image/png": "[encoded data removed]",
      "text/plain": [
       "<Figure size 864x864 with 2 Axes>"
      ]
     },
     "metadata": {
      "needs_background": "light"
     },
     "output_type": "display_data"
    }
   ],
   "source": [
    "#Correlation between variables\n",
    "plt.figure(figsize=(12,12))\n",
    "ax=sb.heatmap(conc.corr(),vmin=-1,vmax=1,annot=True)\n",
    "ax.set_ylim(10.0, 0)\n",
    "plt.yticks(rotation=0)\n",
    "plt.show()"
   ]
  },
  {
   "cell_type": "code",
   "execution_count": 107,
   "metadata": {
    "ExecuteTime": {
     "end_time": "2020-03-09T14:07:35.306663Z",
     "start_time": "2020-03-09T14:07:35.288743Z"
    }
   },
   "outputs": [
    {
     "name": "stdout",
     "output_type": "stream",
     "text": [
      "P value: 3.542207389671394e-101\n",
      "Rejecting null hypothesis, the sub populations probably dont have same mean\n"
     ]
    }
   ],
   "source": [
    "l=[conc.loc[conc['Age']==i,:]['CompressiveStrength'].values for i in conc['Age'].unique()]\n",
    "f,p=stats.f_oneway(*l)\n",
    "print('P value:',p)\n",
    "if p<0.05:\n",
    "    print('Rejecting null hypothesis, the sub populations probably dont have same mean')\n",
    "else:\n",
    "    print('Fail to reject null hypothesis, the column may not be useful for modelling')"
   ]
  },
  {
   "cell_type": "code",
   "execution_count": 371,
   "metadata": {
    "ExecuteTime": {
     "end_time": "2020-03-10T06:37:10.322119Z",
     "start_time": "2020-03-10T06:37:10.315139Z"
    }
   },
   "outputs": [],
   "source": [
    "xtrain,xtest,ytrain,ytest=train_test_split(conc.drop('CompressiveStrength',axis=1),conc.CompressiveStrength,test_size=0.2)"
   ]
  },
  {
   "cell_type": "markdown",
   "metadata": {},
   "source": [
    "### Linear Regression"
   ]
  },
  {
   "cell_type": "code",
   "execution_count": 254,
   "metadata": {
    "ExecuteTime": {
     "end_time": "2020-03-10T05:30:19.050807Z",
     "start_time": "2020-03-10T05:30:19.008919Z"
    }
   },
   "outputs": [
    {
     "name": "stderr",
     "output_type": "stream",
     "text": [
      "C:\\Users\\Prabhath\\AppData\\Roaming\\Python\\Python37\\site-packages\\numpy\\core\\fromnumeric.py:2542: FutureWarning: Method .ptp is deprecated and will be removed in a future version. Use numpy.ptp instead.\n",
      "  return ptp(axis=axis, out=out, **kwargs)\n"
     ]
    },
    {
     "data": {
      "text/html": [
       "<table class=\"simpletable\">\n",
       "<caption>OLS Regression Results</caption>\n",
       "<tr>\n",
       "  <th>Dep. Variable:</th>    <td>CompressiveStrength</td> <th>  R-squared:         </th> <td>   0.631</td> \n",
       "</tr>\n",
       "<tr>\n",
       "  <th>Model:</th>                    <td>OLS</td>         <th>  Adj. R-squared:    </th> <td>   0.627</td> \n",
       "</tr>\n",
       "<tr>\n",
       "  <th>Method:</th>              <td>Least Squares</td>    <th>  F-statistic:       </th> <td>   148.6</td> \n",
       "</tr>\n",
       "<tr>\n",
       "  <th>Date:</th>              <td>Tue, 10 Mar 2020</td>   <th>  Prob (F-statistic):</th> <td>8.44e-163</td>\n",
       "</tr>\n",
       "<tr>\n",
       "  <th>Time:</th>                  <td>11:00:19</td>       <th>  Log-Likelihood:    </th> <td> -2941.2</td> \n",
       "</tr>\n",
       "<tr>\n",
       "  <th>No. Observations:</th>       <td>   793</td>        <th>  AIC:               </th> <td>   5902.</td> \n",
       "</tr>\n",
       "<tr>\n",
       "  <th>Df Residuals:</th>           <td>   783</td>        <th>  BIC:               </th> <td>   5949.</td> \n",
       "</tr>\n",
       "<tr>\n",
       "  <th>Df Model:</th>               <td>     9</td>        <th>                     </th>     <td> </td>    \n",
       "</tr>\n",
       "<tr>\n",
       "  <th>Covariance Type:</th>       <td>nonrobust</td>      <th>                     </th>     <td> </td>    \n",
       "</tr>\n",
       "</table>\n",
       "<table class=\"simpletable\">\n",
       "<tr>\n",
       "        <td></td>          <th>coef</th>     <th>std err</th>      <th>t</th>      <th>P>|t|</th>  <th>[0.025</th>    <th>0.975]</th>  \n",
       "</tr>\n",
       "<tr>\n",
       "  <th>const</th>        <td>   -2.3957</td> <td>   29.684</td> <td>   -0.081</td> <td> 0.936</td> <td>  -60.665</td> <td>   55.873</td>\n",
       "</tr>\n",
       "<tr>\n",
       "  <th>Cement</th>       <td>    0.0331</td> <td>    0.004</td> <td>    8.348</td> <td> 0.000</td> <td>    0.025</td> <td>    0.041</td>\n",
       "</tr>\n",
       "<tr>\n",
       "  <th>BFS</th>          <td>    0.0141</td> <td>    0.005</td> <td>    2.691</td> <td> 0.007</td> <td>    0.004</td> <td>    0.024</td>\n",
       "</tr>\n",
       "<tr>\n",
       "  <th>FlyAsh</th>       <td>   -0.0079</td> <td>    0.008</td> <td>   -0.972</td> <td> 0.331</td> <td>   -0.024</td> <td>    0.008</td>\n",
       "</tr>\n",
       "<tr>\n",
       "  <th>Water</th>        <td>   -0.0524</td> <td>    0.053</td> <td>   -0.981</td> <td> 0.327</td> <td>   -0.157</td> <td>    0.052</td>\n",
       "</tr>\n",
       "<tr>\n",
       "  <th>Admix</th>        <td>    0.2664</td> <td>    0.102</td> <td>    2.620</td> <td> 0.009</td> <td>    0.067</td> <td>    0.466</td>\n",
       "</tr>\n",
       "<tr>\n",
       "  <th>CA</th>           <td>    0.0178</td> <td>    0.010</td> <td>    1.737</td> <td> 0.083</td> <td>   -0.002</td> <td>    0.038</td>\n",
       "</tr>\n",
       "<tr>\n",
       "  <th>FA</th>           <td>    0.0241</td> <td>    0.012</td> <td>    2.057</td> <td> 0.040</td> <td>    0.001</td> <td>    0.047</td>\n",
       "</tr>\n",
       "<tr>\n",
       "  <th>Age</th>          <td>    0.1206</td> <td>    0.006</td> <td>   19.510</td> <td> 0.000</td> <td>    0.108</td> <td>    0.133</td>\n",
       "</tr>\n",
       "<tr>\n",
       "  <th>Cementitious</th> <td>    0.0392</td> <td>    0.014</td> <td>    2.818</td> <td> 0.005</td> <td>    0.012</td> <td>    0.067</td>\n",
       "</tr>\n",
       "<tr>\n",
       "  <th>W/C</th>          <td>  -45.0481</td> <td>   12.647</td> <td>   -3.562</td> <td> 0.000</td> <td>  -69.875</td> <td>  -20.221</td>\n",
       "</tr>\n",
       "</table>\n",
       "<table class=\"simpletable\">\n",
       "<tr>\n",
       "  <th>Omnibus:</th>       <td> 5.645</td> <th>  Durbin-Watson:     </th> <td>   2.025</td>\n",
       "</tr>\n",
       "<tr>\n",
       "  <th>Prob(Omnibus):</th> <td> 0.059</td> <th>  Jarque-Bera (JB):  </th> <td>   5.699</td>\n",
       "</tr>\n",
       "<tr>\n",
       "  <th>Skew:</th>          <td>-0.160</td> <th>  Prob(JB):          </th> <td>  0.0579</td>\n",
       "</tr>\n",
       "<tr>\n",
       "  <th>Kurtosis:</th>      <td> 3.264</td> <th>  Cond. No.          </th> <td>2.20e+16</td>\n",
       "</tr>\n",
       "</table><br/><br/>Warnings:<br/>[1] Standard Errors assume that the covariance matrix of the errors is correctly specified.<br/>[2] The smallest eigenvalue is 3.01e-24. This might indicate that there are<br/>strong multicollinearity problems or that the design matrix is singular."
      ],
      "text/plain": [
       "<class 'statsmodels.iolib.summary.Summary'>\n",
       "\"\"\"\n",
       "                             OLS Regression Results                            \n",
       "===============================================================================\n",
       "Dep. Variable:     CompressiveStrength   R-squared:                       0.631\n",
       "Model:                             OLS   Adj. R-squared:                  0.627\n",
       "Method:                  Least Squares   F-statistic:                     148.6\n",
       "Date:                 Tue, 10 Mar 2020   Prob (F-statistic):          8.44e-163\n",
       "Time:                         11:00:19   Log-Likelihood:                -2941.2\n",
       "No. Observations:                  793   AIC:                             5902.\n",
       "Df Residuals:                      783   BIC:                             5949.\n",
       "Df Model:                            9                                         \n",
       "Covariance Type:             nonrobust                                         \n",
       "================================================================================\n",
       "                   coef    std err          t      P>|t|      [0.025      0.975]\n",
       "--------------------------------------------------------------------------------\n",
       "const           -2.3957     29.684     -0.081      0.936     -60.665      55.873\n",
       "Cement           0.0331      0.004      8.348      0.000       0.025       0.041\n",
       "BFS              0.0141      0.005      2.691      0.007       0.004       0.024\n",
       "FlyAsh          -0.0079      0.008     -0.972      0.331      -0.024       0.008\n",
       "Water           -0.0524      0.053     -0.981      0.327      -0.157       0.052\n",
       "Admix            0.2664      0.102      2.620      0.009       0.067       0.466\n",
       "CA               0.0178      0.010      1.737      0.083      -0.002       0.038\n",
       "FA               0.0241      0.012      2.057      0.040       0.001       0.047\n",
       "Age              0.1206      0.006     19.510      0.000       0.108       0.133\n",
       "Cementitious     0.0392      0.014      2.818      0.005       0.012       0.067\n",
       "W/C            -45.0481     12.647     -3.562      0.000     -69.875     -20.221\n",
       "==============================================================================\n",
       "Omnibus:                        5.645   Durbin-Watson:                   2.025\n",
       "Prob(Omnibus):                  0.059   Jarque-Bera (JB):                5.699\n",
       "Skew:                          -0.160   Prob(JB):                       0.0579\n",
       "Kurtosis:                       3.264   Cond. No.                     2.20e+16\n",
       "==============================================================================\n",
       "\n",
       "Warnings:\n",
       "[1] Standard Errors assume that the covariance matrix of the errors is correctly specified.\n",
       "[2] The smallest eigenvalue is 3.01e-24. This might indicate that there are\n",
       "strong multicollinearity problems or that the design matrix is singular.\n",
       "\"\"\""
      ]
     },
     "execution_count": 254,
     "metadata": {},
     "output_type": "execute_result"
    }
   ],
   "source": [
    "#Fitting OLS using all columns\n",
    "xtrain=stm.add_constant(xtrain)\n",
    "model=stm.OLS(ytrain,xtrain).fit()\n",
    "model.summary()"
   ]
  },
  {
   "cell_type": "markdown",
   "metadata": {},
   "source": [
    "#### Feature engineering"
   ]
  },
  {
   "cell_type": "code",
   "execution_count": 255,
   "metadata": {
    "ExecuteTime": {
     "end_time": "2020-03-10T05:30:27.457757Z",
     "start_time": "2020-03-10T05:30:27.127605Z"
    }
   },
   "outputs": [
    {
     "data": {
      "text/plain": [
       "Text(0.5, 1.0, 'Compressive strength vs Water Cement Ratio')"
      ]
     },
     "execution_count": 255,
     "metadata": {},
     "output_type": "execute_result"
    },
    {
     "data": {
      "image/png": "[encoded data removed]",
      "text/plain": [
       "<Figure size 432x288 with 1 Axes>"
      ]
     },
     "metadata": {
      "needs_background": "light"
     },
     "output_type": "display_data"
    }
   ],
   "source": [
    "xtrain1=xtrain.copy()\n",
    "xtrain1['Cementitious']=xtrain1['Cement']+xtrain1['FlyAsh']+xtrain1['BFS']\n",
    "xtrain1['W/C']=xtrain1['Water']/xtrain1['Cementitious']\n",
    "plt.scatter(xtrain1['W/C'],ytrain)\n",
    "plt.title('Compressive strength vs Water Cement Ratio')"
   ]
  },
  {
   "cell_type": "code",
   "execution_count": 256,
   "metadata": {
    "ExecuteTime": {
     "end_time": "2020-03-10T05:30:32.780172Z",
     "start_time": "2020-03-10T05:30:32.764212Z"
    }
   },
   "outputs": [
    {
     "data": {
      "text/html": [
       "<div>\n",
       "<style scoped>\n",
       "    .dataframe tbody tr th:only-of-type {\n",
       "        vertical-align: middle;\n",
       "    }\n",
       "\n",
       "    .dataframe tbody tr th {\n",
       "        vertical-align: top;\n",
       "    }\n",
       "\n",
       "    .dataframe thead th {\n",
       "        text-align: right;\n",
       "    }\n",
       "</style>\n",
       "<table border=\"1\" class=\"dataframe\">\n",
       "  <thead>\n",
       "    <tr style=\"text-align: right;\">\n",
       "      <th></th>\n",
       "      <th>const</th>\n",
       "      <th>Cement</th>\n",
       "      <th>BFS</th>\n",
       "      <th>FlyAsh</th>\n",
       "      <th>Water</th>\n",
       "      <th>Admix</th>\n",
       "      <th>CA</th>\n",
       "      <th>FA</th>\n",
       "      <th>Age</th>\n",
       "      <th>Cementitious</th>\n",
       "      <th>W/C</th>\n",
       "    </tr>\n",
       "  </thead>\n",
       "  <tbody>\n",
       "    <tr>\n",
       "      <td>889</td>\n",
       "      <td>1.0</td>\n",
       "      <td>262.0</td>\n",
       "      <td>111.0</td>\n",
       "      <td>86.0</td>\n",
       "      <td>195.0</td>\n",
       "      <td>5.0</td>\n",
       "      <td>895.0</td>\n",
       "      <td>733.0</td>\n",
       "      <td>28</td>\n",
       "      <td>459.0</td>\n",
       "      <td>0.424837</td>\n",
       "    </tr>\n",
       "    <tr>\n",
       "      <td>677</td>\n",
       "      <td>1.0</td>\n",
       "      <td>102.0</td>\n",
       "      <td>153.0</td>\n",
       "      <td>0.0</td>\n",
       "      <td>192.0</td>\n",
       "      <td>0.0</td>\n",
       "      <td>887.0</td>\n",
       "      <td>942.0</td>\n",
       "      <td>7</td>\n",
       "      <td>255.0</td>\n",
       "      <td>0.752941</td>\n",
       "    </tr>\n",
       "    <tr>\n",
       "      <td>849</td>\n",
       "      <td>1.0</td>\n",
       "      <td>165.0</td>\n",
       "      <td>0.0</td>\n",
       "      <td>150.0</td>\n",
       "      <td>182.0</td>\n",
       "      <td>12.0</td>\n",
       "      <td>1023.0</td>\n",
       "      <td>729.0</td>\n",
       "      <td>28</td>\n",
       "      <td>315.0</td>\n",
       "      <td>0.577778</td>\n",
       "    </tr>\n",
       "    <tr>\n",
       "      <td>327</td>\n",
       "      <td>1.0</td>\n",
       "      <td>252.3</td>\n",
       "      <td>0.0</td>\n",
       "      <td>98.8</td>\n",
       "      <td>146.3</td>\n",
       "      <td>14.2</td>\n",
       "      <td>987.8</td>\n",
       "      <td>889.0</td>\n",
       "      <td>56</td>\n",
       "      <td>351.1</td>\n",
       "      <td>0.416690</td>\n",
       "    </tr>\n",
       "    <tr>\n",
       "      <td>1</td>\n",
       "      <td>1.0</td>\n",
       "      <td>540.0</td>\n",
       "      <td>0.0</td>\n",
       "      <td>0.0</td>\n",
       "      <td>162.0</td>\n",
       "      <td>2.5</td>\n",
       "      <td>1055.0</td>\n",
       "      <td>676.0</td>\n",
       "      <td>28</td>\n",
       "      <td>540.0</td>\n",
       "      <td>0.300000</td>\n",
       "    </tr>\n",
       "  </tbody>\n",
       "</table>\n",
       "</div>"
      ],
      "text/plain": [
       "     const  Cement    BFS  FlyAsh  Water  Admix      CA     FA  Age  \\\n",
       "889    1.0   262.0  111.0    86.0  195.0    5.0   895.0  733.0   28   \n",
       "677    1.0   102.0  153.0     0.0  192.0    0.0   887.0  942.0    7   \n",
       "849    1.0   165.0    0.0   150.0  182.0   12.0  1023.0  729.0   28   \n",
       "327    1.0   252.3    0.0    98.8  146.3   14.2   987.8  889.0   56   \n",
       "1      1.0   540.0    0.0     0.0  162.0    2.5  1055.0  676.0   28   \n",
       "\n",
       "     Cementitious       W/C  \n",
       "889         459.0  0.424837  \n",
       "677         255.0  0.752941  \n",
       "849         315.0  0.577778  \n",
       "327         351.1  0.416690  \n",
       "1           540.0  0.300000  "
      ]
     },
     "execution_count": 256,
     "metadata": {},
     "output_type": "execute_result"
    }
   ],
   "source": [
    "xtrain1.head()"
   ]
  },
  {
   "cell_type": "code",
   "execution_count": 257,
   "metadata": {
    "ExecuteTime": {
     "end_time": "2020-03-10T05:30:40.949279Z",
     "start_time": "2020-03-10T05:30:40.938297Z"
    }
   },
   "outputs": [
    {
     "data": {
      "text/plain": [
       "const                NaN\n",
       "Cement          0.491779\n",
       "BFS             0.106558\n",
       "FlyAsh         -0.098296\n",
       "Water          -0.281875\n",
       "Admix           0.341620\n",
       "CA             -0.124859\n",
       "FA             -0.184765\n",
       "Age             0.345957\n",
       "Cementitious    0.602059\n",
       "W/C            -0.616964\n",
       "Strength        1.000000\n",
       "Name: Strength, dtype: float64"
      ]
     },
     "execution_count": 257,
     "metadata": {},
     "output_type": "execute_result"
    }
   ],
   "source": [
    "#Correlation with added variable\n",
    "train=xtrain1\n",
    "train['Strength']=ytrain\n",
    "train.corr()['Strength']"
   ]
  },
  {
   "cell_type": "code",
   "execution_count": 260,
   "metadata": {
    "ExecuteTime": {
     "end_time": "2020-03-10T05:31:51.102660Z",
     "start_time": "2020-03-10T05:31:51.092667Z"
    }
   },
   "outputs": [],
   "source": [
    "train['Lage']=np.log(train['Age'])\n",
    "xtrain2=train.loc[:,['W/C','Lage']]\n",
    "xtrain2=stm.add_constant(xtrain2)"
   ]
  },
  {
   "cell_type": "code",
   "execution_count": 261,
   "metadata": {
    "ExecuteTime": {
     "end_time": "2020-03-10T05:31:52.051005Z",
     "start_time": "2020-03-10T05:31:52.035460Z"
    }
   },
   "outputs": [
    {
     "data": {
      "text/html": [
       "<div>\n",
       "<style scoped>\n",
       "    .dataframe tbody tr th:only-of-type {\n",
       "        vertical-align: middle;\n",
       "    }\n",
       "\n",
       "    .dataframe tbody tr th {\n",
       "        vertical-align: top;\n",
       "    }\n",
       "\n",
       "    .dataframe thead th {\n",
       "        text-align: right;\n",
       "    }\n",
       "</style>\n",
       "<table border=\"1\" class=\"dataframe\">\n",
       "  <thead>\n",
       "    <tr style=\"text-align: right;\">\n",
       "      <th></th>\n",
       "      <th>const</th>\n",
       "      <th>W/C</th>\n",
       "      <th>Lage</th>\n",
       "    </tr>\n",
       "  </thead>\n",
       "  <tbody>\n",
       "    <tr>\n",
       "      <td>889</td>\n",
       "      <td>1.0</td>\n",
       "      <td>0.424837</td>\n",
       "      <td>3.332205</td>\n",
       "    </tr>\n",
       "    <tr>\n",
       "      <td>677</td>\n",
       "      <td>1.0</td>\n",
       "      <td>0.752941</td>\n",
       "      <td>1.945910</td>\n",
       "    </tr>\n",
       "    <tr>\n",
       "      <td>849</td>\n",
       "      <td>1.0</td>\n",
       "      <td>0.577778</td>\n",
       "      <td>3.332205</td>\n",
       "    </tr>\n",
       "    <tr>\n",
       "      <td>327</td>\n",
       "      <td>1.0</td>\n",
       "      <td>0.416690</td>\n",
       "      <td>4.025352</td>\n",
       "    </tr>\n",
       "    <tr>\n",
       "      <td>1</td>\n",
       "      <td>1.0</td>\n",
       "      <td>0.300000</td>\n",
       "      <td>3.332205</td>\n",
       "    </tr>\n",
       "    <tr>\n",
       "      <td>...</td>\n",
       "      <td>...</td>\n",
       "      <td>...</td>\n",
       "      <td>...</td>\n",
       "    </tr>\n",
       "    <tr>\n",
       "      <td>175</td>\n",
       "      <td>1.0</td>\n",
       "      <td>0.298949</td>\n",
       "      <td>4.510860</td>\n",
       "    </tr>\n",
       "    <tr>\n",
       "      <td>545</td>\n",
       "      <td>1.0</td>\n",
       "      <td>0.752941</td>\n",
       "      <td>3.332205</td>\n",
       "    </tr>\n",
       "    <tr>\n",
       "      <td>962</td>\n",
       "      <td>1.0</td>\n",
       "      <td>0.649425</td>\n",
       "      <td>3.332205</td>\n",
       "    </tr>\n",
       "    <tr>\n",
       "      <td>323</td>\n",
       "      <td>1.0</td>\n",
       "      <td>0.454441</td>\n",
       "      <td>4.605170</td>\n",
       "    </tr>\n",
       "    <tr>\n",
       "      <td>262</td>\n",
       "      <td>1.0</td>\n",
       "      <td>0.509265</td>\n",
       "      <td>4.025352</td>\n",
       "    </tr>\n",
       "  </tbody>\n",
       "</table>\n",
       "<p>793 rows × 3 columns</p>\n",
       "</div>"
      ],
      "text/plain": [
       "     const       W/C      Lage\n",
       "889    1.0  0.424837  3.332205\n",
       "677    1.0  0.752941  1.945910\n",
       "849    1.0  0.577778  3.332205\n",
       "327    1.0  0.416690  4.025352\n",
       "1      1.0  0.300000  3.332205\n",
       "..     ...       ...       ...\n",
       "175    1.0  0.298949  4.510860\n",
       "545    1.0  0.752941  3.332205\n",
       "962    1.0  0.649425  3.332205\n",
       "323    1.0  0.454441  4.605170\n",
       "262    1.0  0.509265  4.025352\n",
       "\n",
       "[793 rows x 3 columns]"
      ]
     },
     "execution_count": 261,
     "metadata": {},
     "output_type": "execute_result"
    }
   ],
   "source": [
    "xtrain2"
   ]
  },
  {
   "cell_type": "code",
   "execution_count": 262,
   "metadata": {
    "ExecuteTime": {
     "end_time": "2020-03-10T05:31:55.494396Z",
     "start_time": "2020-03-10T05:31:55.485358Z"
    }
   },
   "outputs": [
    {
     "data": {
      "text/plain": [
       "const                NaN\n",
       "Cement          0.491779\n",
       "BFS             0.106558\n",
       "FlyAsh         -0.098296\n",
       "Water          -0.281875\n",
       "Admix           0.341620\n",
       "CA             -0.124859\n",
       "FA             -0.184765\n",
       "Age             0.345957\n",
       "Cementitious    0.602059\n",
       "W/C            -0.616964\n",
       "Strength        1.000000\n",
       "Lage            0.559496\n",
       "Name: Strength, dtype: float64"
      ]
     },
     "execution_count": 262,
     "metadata": {},
     "output_type": "execute_result"
    }
   ],
   "source": [
    "#Correlation with added variable\n",
    "train.corr()['Strength']"
   ]
  },
  {
   "cell_type": "markdown",
   "metadata": {},
   "source": [
    "#### Model 1"
   ]
  },
  {
   "cell_type": "code",
   "execution_count": 263,
   "metadata": {
    "ExecuteTime": {
     "end_time": "2020-03-10T05:32:02.683555Z",
     "start_time": "2020-03-10T05:32:02.661614Z"
    }
   },
   "outputs": [
    {
     "data": {
      "text/html": [
       "<table class=\"simpletable\">\n",
       "<caption>OLS Regression Results</caption>\n",
       "<tr>\n",
       "  <th>Dep. Variable:</th>    <td>CompressiveStrength</td> <th>  R-squared:         </th> <td>   0.738</td> \n",
       "</tr>\n",
       "<tr>\n",
       "  <th>Model:</th>                    <td>OLS</td>         <th>  Adj. R-squared:    </th> <td>   0.737</td> \n",
       "</tr>\n",
       "<tr>\n",
       "  <th>Method:</th>              <td>Least Squares</td>    <th>  F-statistic:       </th> <td>   1112.</td> \n",
       "</tr>\n",
       "<tr>\n",
       "  <th>Date:</th>              <td>Tue, 10 Mar 2020</td>   <th>  Prob (F-statistic):</th> <td>2.22e-230</td>\n",
       "</tr>\n",
       "<tr>\n",
       "  <th>Time:</th>                  <td>11:02:02</td>       <th>  Log-Likelihood:    </th> <td> -2805.4</td> \n",
       "</tr>\n",
       "<tr>\n",
       "  <th>No. Observations:</th>       <td>   793</td>        <th>  AIC:               </th> <td>   5617.</td> \n",
       "</tr>\n",
       "<tr>\n",
       "  <th>Df Residuals:</th>           <td>   790</td>        <th>  BIC:               </th> <td>   5631.</td> \n",
       "</tr>\n",
       "<tr>\n",
       "  <th>Df Model:</th>               <td>     2</td>        <th>                     </th>     <td> </td>    \n",
       "</tr>\n",
       "<tr>\n",
       "  <th>Covariance Type:</th>       <td>nonrobust</td>      <th>                     </th>     <td> </td>    \n",
       "</tr>\n",
       "</table>\n",
       "<table class=\"simpletable\">\n",
       "<tr>\n",
       "    <td></td>       <th>coef</th>     <th>std err</th>      <th>t</th>      <th>P>|t|</th>  <th>[0.025</th>    <th>0.975]</th>  \n",
       "</tr>\n",
       "<tr>\n",
       "  <th>const</th> <td>   49.4248</td> <td>    1.387</td> <td>   35.627</td> <td> 0.000</td> <td>   46.702</td> <td>   52.148</td>\n",
       "</tr>\n",
       "<tr>\n",
       "  <th>W/C</th>   <td>  -85.6331</td> <td>    2.394</td> <td>  -35.777</td> <td> 0.000</td> <td>  -90.332</td> <td>  -80.935</td>\n",
       "</tr>\n",
       "<tr>\n",
       "  <th>Lage</th>  <td>    8.3235</td> <td>    0.254</td> <td>   32.806</td> <td> 0.000</td> <td>    7.825</td> <td>    8.822</td>\n",
       "</tr>\n",
       "</table>\n",
       "<table class=\"simpletable\">\n",
       "<tr>\n",
       "  <th>Omnibus:</th>       <td>14.471</td> <th>  Durbin-Watson:     </th> <td>   1.966</td>\n",
       "</tr>\n",
       "<tr>\n",
       "  <th>Prob(Omnibus):</th> <td> 0.001</td> <th>  Jarque-Bera (JB):  </th> <td>  20.652</td>\n",
       "</tr>\n",
       "<tr>\n",
       "  <th>Skew:</th>          <td> 0.173</td> <th>  Prob(JB):          </th> <td>3.28e-05</td>\n",
       "</tr>\n",
       "<tr>\n",
       "  <th>Kurtosis:</th>      <td> 3.711</td> <th>  Cond. No.          </th> <td>    31.8</td>\n",
       "</tr>\n",
       "</table><br/><br/>Warnings:<br/>[1] Standard Errors assume that the covariance matrix of the errors is correctly specified."
      ],
      "text/plain": [
       "<class 'statsmodels.iolib.summary.Summary'>\n",
       "\"\"\"\n",
       "                             OLS Regression Results                            \n",
       "===============================================================================\n",
       "Dep. Variable:     CompressiveStrength   R-squared:                       0.738\n",
       "Model:                             OLS   Adj. R-squared:                  0.737\n",
       "Method:                  Least Squares   F-statistic:                     1112.\n",
       "Date:                 Tue, 10 Mar 2020   Prob (F-statistic):          2.22e-230\n",
       "Time:                         11:02:02   Log-Likelihood:                -2805.4\n",
       "No. Observations:                  793   AIC:                             5617.\n",
       "Df Residuals:                      790   BIC:                             5631.\n",
       "Df Model:                            2                                         \n",
       "Covariance Type:             nonrobust                                         \n",
       "==============================================================================\n",
       "                 coef    std err          t      P>|t|      [0.025      0.975]\n",
       "------------------------------------------------------------------------------\n",
       "const         49.4248      1.387     35.627      0.000      46.702      52.148\n",
       "W/C          -85.6331      2.394    -35.777      0.000     -90.332     -80.935\n",
       "Lage           8.3235      0.254     32.806      0.000       7.825       8.822\n",
       "==============================================================================\n",
       "Omnibus:                       14.471   Durbin-Watson:                   1.966\n",
       "Prob(Omnibus):                  0.001   Jarque-Bera (JB):               20.652\n",
       "Skew:                           0.173   Prob(JB):                     3.28e-05\n",
       "Kurtosis:                       3.711   Cond. No.                         31.8\n",
       "==============================================================================\n",
       "\n",
       "Warnings:\n",
       "[1] Standard Errors assume that the covariance matrix of the errors is correctly specified.\n",
       "\"\"\""
      ]
     },
     "execution_count": 263,
     "metadata": {},
     "output_type": "execute_result"
    }
   ],
   "source": [
    "model=stm.OLS(ytrain,xtrain2).fit() #ordinary least squares regression\n",
    "model.summary()"
   ]
  },
  {
   "cell_type": "markdown",
   "metadata": {},
   "source": [
    "#### Testing the assumptions of linear regression"
   ]
  },
  {
   "cell_type": "code",
   "execution_count": 264,
   "metadata": {
    "ExecuteTime": {
     "end_time": "2020-03-10T05:32:06.559242Z",
     "start_time": "2020-03-10T05:32:06.552199Z"
    }
   },
   "outputs": [
    {
     "name": "stdout",
     "output_type": "stream",
     "text": [
      "Mean of the residuals: -3.548681595180172e-14\n",
      "Standard deviation of residuals: 8.321081744027206\n"
     ]
    }
   ],
   "source": [
    "print('Mean of the residuals:',np.mean(model.resid))\n",
    "print('Standard deviation of residuals:',np.std(model.resid))"
   ]
  },
  {
   "cell_type": "code",
   "execution_count": 265,
   "metadata": {
    "ExecuteTime": {
     "end_time": "2020-03-10T05:32:07.370138Z",
     "start_time": "2020-03-10T05:32:07.359167Z"
    }
   },
   "outputs": [
    {
     "data": {
      "text/plain": [
       "590    -1.165766\n",
       "668    -5.907606\n",
       "627   -11.448215\n",
       "605   -11.824232\n",
       "617    -8.184282\n",
       "652    -5.907606\n",
       "688    -5.806006\n",
       "551    -5.907606\n",
       "626    -4.408882\n",
       "613    -0.477568\n",
       "629    -3.265494\n",
       "dtype: float64"
      ]
     },
     "execution_count": 265,
     "metadata": {},
     "output_type": "execute_result"
    }
   ],
   "source": [
    "model.fittedvalues[model.fittedvalues<0]"
   ]
  },
  {
   "cell_type": "code",
   "execution_count": 266,
   "metadata": {
    "ExecuteTime": {
     "end_time": "2020-03-10T05:32:10.681705Z",
     "start_time": "2020-03-10T05:32:10.400459Z"
    }
   },
   "outputs": [
    {
     "data": {
      "text/plain": [
       "<matplotlib.collections.PathCollection at 0x1bae398fc08>"
      ]
     },
     "execution_count": 266,
     "metadata": {},
     "output_type": "execute_result"
    },
    {
     "data": {
      "image/png": "[encoded data removed]",
      "text/plain": [
       "<Figure size 432x180 with 1 Axes>"
      ]
     },
     "metadata": {
      "needs_background": "light"
     },
     "output_type": "display_data"
    }
   ],
   "source": [
    "pred_val = model.fittedvalues\n",
    "residual = ytrain - pred_val\n",
    "fig, ax = plt.subplots(figsize=(6,2.5))\n",
    "ax.scatter(pred_val,residual)"
   ]
  },
  {
   "cell_type": "code",
   "execution_count": 267,
   "metadata": {
    "ExecuteTime": {
     "end_time": "2020-03-10T05:32:15.263602Z",
     "start_time": "2020-03-10T05:32:15.256822Z"
    }
   },
   "outputs": [
    {
     "name": "stdout",
     "output_type": "stream",
     "text": [
      "The test value of 1.97 is between 1.8 and 2.2 indicating no or negligible autocorrelation.\n"
     ]
    }
   ],
   "source": [
    "test=durbin_watson(model.resid)\n",
    "if ((test<2.2) & (test >1.8)):\n",
    "    print(f'The test value of {round(test,2)} is between 1.8 and 2.2 indicating no or negligible autocorrelation.')\n",
    "else:\n",
    "    print('The value indicates presence of autocorrelation')"
   ]
  },
  {
   "cell_type": "code",
   "execution_count": 268,
   "metadata": {
    "ExecuteTime": {
     "end_time": "2020-03-10T05:32:17.443877Z",
     "start_time": "2020-03-10T05:32:17.353106Z"
    }
   },
   "outputs": [
    {
     "data": {
      "text/plain": [
       "(347.64026511703963,\n",
       " 6.394220582467791e-45,\n",
       " 10.88397890765031,\n",
       " 1.953306051086825e-62)"
      ]
     },
     "execution_count": 268,
     "metadata": {},
     "output_type": "execute_result"
    }
   ],
   "source": [
    "het_white(model.resid,xtrain)"
   ]
  },
  {
   "cell_type": "code",
   "execution_count": 240,
   "metadata": {
    "ExecuteTime": {
     "end_time": "2020-03-09T17:22:31.210054Z",
     "start_time": "2020-03-09T17:22:31.201058Z"
    }
   },
   "outputs": [
    {
     "data": {
      "text/plain": [
       "(138.4702921854479,\n",
       " 1.2191429538667806e-23,\n",
       " 15.020541661880273,\n",
       " 1.0585290576275004e-26)"
      ]
     },
     "execution_count": 240,
     "metadata": {},
     "output_type": "execute_result"
    }
   ],
   "source": [
    "het_breuschpagan(model.resid,xtrain)"
   ]
  },
  {
   "cell_type": "code",
   "execution_count": 269,
   "metadata": {
    "ExecuteTime": {
     "end_time": "2020-03-10T05:32:20.591678Z",
     "start_time": "2020-03-10T05:32:20.583704Z"
    }
   },
   "outputs": [
    {
     "name": "stdout",
     "output_type": "stream",
     "text": [
      "The test value of 0.0 is less than 0.05 indicating non normality of errors.\n"
     ]
    }
   ],
   "source": [
    "p=jarque_bera(model.resid)[1]\n",
    "if (p<0.05):\n",
    "    print(f'The test value of {round(p,2)} is less than 0.05 indicating non normality of errors.')\n",
    "else:\n",
    "    print(f'The p value of {round(p,2)} indicates the errors are normally distributed')"
   ]
  },
  {
   "cell_type": "markdown",
   "metadata": {},
   "source": [
    "We can see that the residuals are neither normally distributed nor have constant variance. Also there are some predictions going into negative values which doesnt make sense. "
   ]
  },
  {
   "cell_type": "code",
   "execution_count": 271,
   "metadata": {
    "ExecuteTime": {
     "end_time": "2020-03-10T05:33:01.887860Z",
     "start_time": "2020-03-10T05:33:01.862960Z"
    }
   },
   "outputs": [
    {
     "data": {
      "text/html": [
       "<div>\n",
       "<style scoped>\n",
       "    .dataframe tbody tr th:only-of-type {\n",
       "        vertical-align: middle;\n",
       "    }\n",
       "\n",
       "    .dataframe tbody tr th {\n",
       "        vertical-align: top;\n",
       "    }\n",
       "\n",
       "    .dataframe thead th {\n",
       "        text-align: right;\n",
       "    }\n",
       "</style>\n",
       "<table border=\"1\" class=\"dataframe\">\n",
       "  <thead>\n",
       "    <tr style=\"text-align: right;\">\n",
       "      <th></th>\n",
       "      <th>const</th>\n",
       "      <th>Cement</th>\n",
       "      <th>BFS</th>\n",
       "      <th>FlyAsh</th>\n",
       "      <th>Water</th>\n",
       "      <th>Admix</th>\n",
       "      <th>CA</th>\n",
       "      <th>FA</th>\n",
       "      <th>Age</th>\n",
       "      <th>Cementitious</th>\n",
       "      <th>W/C</th>\n",
       "    </tr>\n",
       "  </thead>\n",
       "  <tbody>\n",
       "    <tr>\n",
       "      <td>889</td>\n",
       "      <td>1.0</td>\n",
       "      <td>262.0</td>\n",
       "      <td>111.0</td>\n",
       "      <td>86.0</td>\n",
       "      <td>195.0</td>\n",
       "      <td>5.0</td>\n",
       "      <td>895.0</td>\n",
       "      <td>733.0</td>\n",
       "      <td>28</td>\n",
       "      <td>459.0</td>\n",
       "      <td>0.424837</td>\n",
       "    </tr>\n",
       "    <tr>\n",
       "      <td>677</td>\n",
       "      <td>1.0</td>\n",
       "      <td>102.0</td>\n",
       "      <td>153.0</td>\n",
       "      <td>0.0</td>\n",
       "      <td>192.0</td>\n",
       "      <td>0.0</td>\n",
       "      <td>887.0</td>\n",
       "      <td>942.0</td>\n",
       "      <td>7</td>\n",
       "      <td>255.0</td>\n",
       "      <td>0.752941</td>\n",
       "    </tr>\n",
       "    <tr>\n",
       "      <td>849</td>\n",
       "      <td>1.0</td>\n",
       "      <td>165.0</td>\n",
       "      <td>0.0</td>\n",
       "      <td>150.0</td>\n",
       "      <td>182.0</td>\n",
       "      <td>12.0</td>\n",
       "      <td>1023.0</td>\n",
       "      <td>729.0</td>\n",
       "      <td>28</td>\n",
       "      <td>315.0</td>\n",
       "      <td>0.577778</td>\n",
       "    </tr>\n",
       "    <tr>\n",
       "      <td>327</td>\n",
       "      <td>1.0</td>\n",
       "      <td>252.3</td>\n",
       "      <td>0.0</td>\n",
       "      <td>98.8</td>\n",
       "      <td>146.3</td>\n",
       "      <td>14.2</td>\n",
       "      <td>987.8</td>\n",
       "      <td>889.0</td>\n",
       "      <td>56</td>\n",
       "      <td>351.1</td>\n",
       "      <td>0.416690</td>\n",
       "    </tr>\n",
       "    <tr>\n",
       "      <td>1</td>\n",
       "      <td>1.0</td>\n",
       "      <td>540.0</td>\n",
       "      <td>0.0</td>\n",
       "      <td>0.0</td>\n",
       "      <td>162.0</td>\n",
       "      <td>2.5</td>\n",
       "      <td>1055.0</td>\n",
       "      <td>676.0</td>\n",
       "      <td>28</td>\n",
       "      <td>540.0</td>\n",
       "      <td>0.300000</td>\n",
       "    </tr>\n",
       "    <tr>\n",
       "      <td>...</td>\n",
       "      <td>...</td>\n",
       "      <td>...</td>\n",
       "      <td>...</td>\n",
       "      <td>...</td>\n",
       "      <td>...</td>\n",
       "      <td>...</td>\n",
       "      <td>...</td>\n",
       "      <td>...</td>\n",
       "      <td>...</td>\n",
       "      <td>...</td>\n",
       "      <td>...</td>\n",
       "    </tr>\n",
       "    <tr>\n",
       "      <td>175</td>\n",
       "      <td>1.0</td>\n",
       "      <td>362.6</td>\n",
       "      <td>189.0</td>\n",
       "      <td>0.0</td>\n",
       "      <td>164.9</td>\n",
       "      <td>11.6</td>\n",
       "      <td>944.7</td>\n",
       "      <td>755.8</td>\n",
       "      <td>91</td>\n",
       "      <td>551.6</td>\n",
       "      <td>0.298949</td>\n",
       "    </tr>\n",
       "    <tr>\n",
       "      <td>545</td>\n",
       "      <td>1.0</td>\n",
       "      <td>255.0</td>\n",
       "      <td>0.0</td>\n",
       "      <td>0.0</td>\n",
       "      <td>192.0</td>\n",
       "      <td>0.0</td>\n",
       "      <td>889.8</td>\n",
       "      <td>945.0</td>\n",
       "      <td>28</td>\n",
       "      <td>255.0</td>\n",
       "      <td>0.752941</td>\n",
       "    </tr>\n",
       "    <tr>\n",
       "      <td>962</td>\n",
       "      <td>1.0</td>\n",
       "      <td>144.8</td>\n",
       "      <td>0.0</td>\n",
       "      <td>133.6</td>\n",
       "      <td>180.8</td>\n",
       "      <td>11.1</td>\n",
       "      <td>979.5</td>\n",
       "      <td>811.5</td>\n",
       "      <td>28</td>\n",
       "      <td>278.4</td>\n",
       "      <td>0.649425</td>\n",
       "    </tr>\n",
       "    <tr>\n",
       "      <td>323</td>\n",
       "      <td>1.0</td>\n",
       "      <td>249.1</td>\n",
       "      <td>0.0</td>\n",
       "      <td>98.8</td>\n",
       "      <td>158.1</td>\n",
       "      <td>12.8</td>\n",
       "      <td>987.8</td>\n",
       "      <td>889.0</td>\n",
       "      <td>100</td>\n",
       "      <td>347.9</td>\n",
       "      <td>0.454441</td>\n",
       "    </tr>\n",
       "    <tr>\n",
       "      <td>262</td>\n",
       "      <td>1.0</td>\n",
       "      <td>212.6</td>\n",
       "      <td>0.0</td>\n",
       "      <td>100.4</td>\n",
       "      <td>159.4</td>\n",
       "      <td>10.4</td>\n",
       "      <td>1003.8</td>\n",
       "      <td>903.8</td>\n",
       "      <td>56</td>\n",
       "      <td>313.0</td>\n",
       "      <td>0.509265</td>\n",
       "    </tr>\n",
       "  </tbody>\n",
       "</table>\n",
       "<p>793 rows × 11 columns</p>\n",
       "</div>"
      ],
      "text/plain": [
       "     const  Cement    BFS  FlyAsh  Water  Admix      CA     FA  Age  \\\n",
       "889    1.0   262.0  111.0    86.0  195.0    5.0   895.0  733.0   28   \n",
       "677    1.0   102.0  153.0     0.0  192.0    0.0   887.0  942.0    7   \n",
       "849    1.0   165.0    0.0   150.0  182.0   12.0  1023.0  729.0   28   \n",
       "327    1.0   252.3    0.0    98.8  146.3   14.2   987.8  889.0   56   \n",
       "1      1.0   540.0    0.0     0.0  162.0    2.5  1055.0  676.0   28   \n",
       "..     ...     ...    ...     ...    ...    ...     ...    ...  ...   \n",
       "175    1.0   362.6  189.0     0.0  164.9   11.6   944.7  755.8   91   \n",
       "545    1.0   255.0    0.0     0.0  192.0    0.0   889.8  945.0   28   \n",
       "962    1.0   144.8    0.0   133.6  180.8   11.1   979.5  811.5   28   \n",
       "323    1.0   249.1    0.0    98.8  158.1   12.8   987.8  889.0  100   \n",
       "262    1.0   212.6    0.0   100.4  159.4   10.4  1003.8  903.8   56   \n",
       "\n",
       "     Cementitious       W/C  \n",
       "889         459.0  0.424837  \n",
       "677         255.0  0.752941  \n",
       "849         315.0  0.577778  \n",
       "327         351.1  0.416690  \n",
       "1           540.0  0.300000  \n",
       "..            ...       ...  \n",
       "175         551.6  0.298949  \n",
       "545         255.0  0.752941  \n",
       "962         278.4  0.649425  \n",
       "323         347.9  0.454441  \n",
       "262         313.0  0.509265  \n",
       "\n",
       "[793 rows x 11 columns]"
      ]
     },
     "execution_count": 271,
     "metadata": {},
     "output_type": "execute_result"
    }
   ],
   "source": [
    "xtrain"
   ]
  },
  {
   "cell_type": "markdown",
   "metadata": {},
   "source": [
    "#### Model 2"
   ]
  },
  {
   "cell_type": "code",
   "execution_count": 291,
   "metadata": {
    "ExecuteTime": {
     "end_time": "2020-03-10T05:44:58.833296Z",
     "start_time": "2020-03-10T05:44:58.807367Z"
    }
   },
   "outputs": [
    {
     "data": {
      "text/html": [
       "<table class=\"simpletable\">\n",
       "<caption>OLS Regression Results</caption>\n",
       "<tr>\n",
       "  <th>Dep. Variable:</th>    <td>CompressiveStrength</td> <th>  R-squared:         </th> <td>   0.779</td> \n",
       "</tr>\n",
       "<tr>\n",
       "  <th>Model:</th>                    <td>OLS</td>         <th>  Adj. R-squared:    </th> <td>   0.778</td> \n",
       "</tr>\n",
       "<tr>\n",
       "  <th>Method:</th>              <td>Least Squares</td>    <th>  F-statistic:       </th> <td>   1392.</td> \n",
       "</tr>\n",
       "<tr>\n",
       "  <th>Date:</th>              <td>Tue, 10 Mar 2020</td>   <th>  Prob (F-statistic):</th> <td>1.10e-259</td>\n",
       "</tr>\n",
       "<tr>\n",
       "  <th>Time:</th>                  <td>11:14:58</td>       <th>  Log-Likelihood:    </th> <td> -42.829</td> \n",
       "</tr>\n",
       "<tr>\n",
       "  <th>No. Observations:</th>       <td>   793</td>        <th>  AIC:               </th> <td>   91.66</td> \n",
       "</tr>\n",
       "<tr>\n",
       "  <th>Df Residuals:</th>           <td>   790</td>        <th>  BIC:               </th> <td>   105.7</td> \n",
       "</tr>\n",
       "<tr>\n",
       "  <th>Df Model:</th>               <td>     2</td>        <th>                     </th>     <td> </td>    \n",
       "</tr>\n",
       "<tr>\n",
       "  <th>Covariance Type:</th>       <td>nonrobust</td>      <th>                     </th>     <td> </td>    \n",
       "</tr>\n",
       "</table>\n",
       "<table class=\"simpletable\">\n",
       "<tr>\n",
       "    <td></td>       <th>coef</th>     <th>std err</th>      <th>t</th>      <th>P>|t|</th>  <th>[0.025</th>    <th>0.975]</th>  \n",
       "</tr>\n",
       "<tr>\n",
       "  <th>const</th> <td>    1.4487</td> <td>    0.039</td> <td>   37.431</td> <td> 0.000</td> <td>    1.373</td> <td>    1.525</td>\n",
       "</tr>\n",
       "<tr>\n",
       "  <th>W/C</th>   <td>   -1.3168</td> <td>    0.034</td> <td>  -38.433</td> <td> 0.000</td> <td>   -1.384</td> <td>   -1.250</td>\n",
       "</tr>\n",
       "<tr>\n",
       "  <th>Age</th>   <td>    0.3019</td> <td>    0.008</td> <td>   38.739</td> <td> 0.000</td> <td>    0.287</td> <td>    0.317</td>\n",
       "</tr>\n",
       "</table>\n",
       "<table class=\"simpletable\">\n",
       "<tr>\n",
       "  <th>Omnibus:</th>       <td>127.012</td> <th>  Durbin-Watson:     </th> <td>   2.021</td>\n",
       "</tr>\n",
       "<tr>\n",
       "  <th>Prob(Omnibus):</th> <td> 0.000</td>  <th>  Jarque-Bera (JB):  </th> <td> 239.912</td>\n",
       "</tr>\n",
       "<tr>\n",
       "  <th>Skew:</th>          <td>-0.949</td>  <th>  Prob(JB):          </th> <td>8.01e-53</td>\n",
       "</tr>\n",
       "<tr>\n",
       "  <th>Kurtosis:</th>      <td> 4.913</td>  <th>  Cond. No.          </th> <td>    19.1</td>\n",
       "</tr>\n",
       "</table><br/><br/>Warnings:<br/>[1] Standard Errors assume that the covariance matrix of the errors is correctly specified."
      ],
      "text/plain": [
       "<class 'statsmodels.iolib.summary.Summary'>\n",
       "\"\"\"\n",
       "                             OLS Regression Results                            \n",
       "===============================================================================\n",
       "Dep. Variable:     CompressiveStrength   R-squared:                       0.779\n",
       "Model:                             OLS   Adj. R-squared:                  0.778\n",
       "Method:                  Least Squares   F-statistic:                     1392.\n",
       "Date:                 Tue, 10 Mar 2020   Prob (F-statistic):          1.10e-259\n",
       "Time:                         11:14:58   Log-Likelihood:                -42.829\n",
       "No. Observations:                  793   AIC:                             91.66\n",
       "Df Residuals:                      790   BIC:                             105.7\n",
       "Df Model:                            2                                         \n",
       "Covariance Type:             nonrobust                                         \n",
       "==============================================================================\n",
       "                 coef    std err          t      P>|t|      [0.025      0.975]\n",
       "------------------------------------------------------------------------------\n",
       "const          1.4487      0.039     37.431      0.000       1.373       1.525\n",
       "W/C           -1.3168      0.034    -38.433      0.000      -1.384      -1.250\n",
       "Age            0.3019      0.008     38.739      0.000       0.287       0.317\n",
       "==============================================================================\n",
       "Omnibus:                      127.012   Durbin-Watson:                   2.021\n",
       "Prob(Omnibus):                  0.000   Jarque-Bera (JB):              239.912\n",
       "Skew:                          -0.949   Prob(JB):                     8.01e-53\n",
       "Kurtosis:                       4.913   Cond. No.                         19.1\n",
       "==============================================================================\n",
       "\n",
       "Warnings:\n",
       "[1] Standard Errors assume that the covariance matrix of the errors is correctly specified.\n",
       "\"\"\""
      ]
     },
     "execution_count": 291,
     "metadata": {},
     "output_type": "execute_result"
    }
   ],
   "source": [
    "train3=np.log(xtrain[['W/C','Age']])\n",
    "train3=stm.add_constant(train3)\n",
    "ytrain3=np.log(ytrain)\n",
    "model2=stm.OLS(ytrain3,train3).fit() #ordinary least squares regression\n",
    "model2.summary()"
   ]
  },
  {
   "cell_type": "code",
   "execution_count": 277,
   "metadata": {
    "ExecuteTime": {
     "end_time": "2020-03-10T05:36:28.205603Z",
     "start_time": "2020-03-10T05:36:27.462575Z"
    }
   },
   "outputs": [
    {
     "data": {
      "text/plain": [
       "<matplotlib.collections.PathCollection at 0x1baebb15388>"
      ]
     },
     "execution_count": 277,
     "metadata": {},
     "output_type": "execute_result"
    },
    {
     "data": {
      "image/png": "[encoded data removed]",
      "text/plain": [
       "<Figure size 432x180 with 1 Axes>"
      ]
     },
     "metadata": {
      "needs_background": "light"
     },
     "output_type": "display_data"
    }
   ],
   "source": [
    "pred_val = model2.fittedvalues\n",
    "residual = ytrain3 - pred_val\n",
    "fig, ax = plt.subplots(figsize=(6,2.5))\n",
    "ax.scatter(pred_val,residual)"
   ]
  },
  {
   "cell_type": "code",
   "execution_count": 285,
   "metadata": {
    "ExecuteTime": {
     "end_time": "2020-03-10T05:40:01.374215Z",
     "start_time": "2020-03-10T05:40:01.364237Z"
    }
   },
   "outputs": [
    {
     "data": {
      "text/plain": [
       "Series([], dtype: float64)"
      ]
     },
     "execution_count": 285,
     "metadata": {},
     "output_type": "execute_result"
    }
   ],
   "source": [
    "model.fittedvalues[model2.fittedvalues<0]"
   ]
  },
  {
   "cell_type": "code",
   "execution_count": 278,
   "metadata": {
    "ExecuteTime": {
     "end_time": "2020-03-10T05:36:52.937169Z",
     "start_time": "2020-03-10T05:36:52.931221Z"
    }
   },
   "outputs": [
    {
     "name": "stdout",
     "output_type": "stream",
     "text": [
      "The test value of 2.02 is between 1.8 and 2.2 indicating no or negligible autocorrelation.\n"
     ]
    }
   ],
   "source": [
    "test=durbin_watson(model2.resid)\n",
    "if ((test<2.2) & (test >1.8)):\n",
    "    print(f'The test value of {round(test,2)} is between 1.8 and 2.2 indicating no or negligible autocorrelation.')\n",
    "else:\n",
    "    print('The value indicates presence of autocorrelation')"
   ]
  },
  {
   "cell_type": "code",
   "execution_count": 284,
   "metadata": {
    "ExecuteTime": {
     "end_time": "2020-03-10T05:38:54.239748Z",
     "start_time": "2020-03-10T05:38:54.230694Z"
    }
   },
   "outputs": [
    {
     "data": {
      "text/plain": [
       "(20.111454950838542,\n",
       " 4.293911072586058e-05,\n",
       " 10.278357411903333,\n",
       " 3.919718961089046e-05)"
      ]
     },
     "execution_count": 284,
     "metadata": {},
     "output_type": "execute_result"
    }
   ],
   "source": [
    "het_breuschpagan(model2.resid,train3)"
   ]
  },
  {
   "cell_type": "code",
   "execution_count": 282,
   "metadata": {
    "ExecuteTime": {
     "end_time": "2020-03-10T05:38:22.227366Z",
     "start_time": "2020-03-10T05:38:22.218425Z"
    }
   },
   "outputs": [
    {
     "name": "stdout",
     "output_type": "stream",
     "text": [
      "The test value of 0.0 is less than 0.05 indicating non normality of errors.\n"
     ]
    }
   ],
   "source": [
    "p=jarque_bera(model2.resid)[1]\n",
    "if (p<0.05):\n",
    "    print(f'The test value of {round(p,2)} is less than 0.05 indicating non normality of errors.')\n",
    "else:\n",
    "    print(f'The p value of {round(p,2)} indicates the errors are normally distributed')"
   ]
  },
  {
   "cell_type": "markdown",
   "metadata": {},
   "source": [
    "There has been an imrpovement of sorts (no negative predictions and improvement in test statistics) but it still has heteroskedasticity and non normality of residuals."
   ]
  },
  {
   "cell_type": "markdown",
   "metadata": {},
   "source": [
    "#### Model 3"
   ]
  },
  {
   "cell_type": "code",
   "execution_count": 290,
   "metadata": {
    "ExecuteTime": {
     "end_time": "2020-03-10T05:44:52.181848Z",
     "start_time": "2020-03-10T05:44:52.138055Z"
    }
   },
   "outputs": [
    {
     "data": {
      "text/html": [
       "<table class=\"simpletable\">\n",
       "<caption>OLS Regression Results</caption>\n",
       "<tr>\n",
       "  <th>Dep. Variable:</th>    <td>CompressiveStrength</td> <th>  R-squared:         </th> <td>   0.769</td> \n",
       "</tr>\n",
       "<tr>\n",
       "  <th>Model:</th>                    <td>OLS</td>         <th>  Adj. R-squared:    </th> <td>   0.768</td> \n",
       "</tr>\n",
       "<tr>\n",
       "  <th>Method:</th>              <td>Least Squares</td>    <th>  F-statistic:       </th> <td>   1314.</td> \n",
       "</tr>\n",
       "<tr>\n",
       "  <th>Date:</th>              <td>Tue, 10 Mar 2020</td>   <th>  Prob (F-statistic):</th> <td>5.40e-252</td>\n",
       "</tr>\n",
       "<tr>\n",
       "  <th>Time:</th>                  <td>11:14:52</td>       <th>  Log-Likelihood:    </th> <td> -2755.5</td> \n",
       "</tr>\n",
       "<tr>\n",
       "  <th>No. Observations:</th>       <td>   793</td>        <th>  AIC:               </th> <td>   5517.</td> \n",
       "</tr>\n",
       "<tr>\n",
       "  <th>Df Residuals:</th>           <td>   790</td>        <th>  BIC:               </th> <td>   5531.</td> \n",
       "</tr>\n",
       "<tr>\n",
       "  <th>Df Model:</th>               <td>     2</td>        <th>                     </th>     <td> </td>    \n",
       "</tr>\n",
       "<tr>\n",
       "  <th>Covariance Type:</th>       <td>nonrobust</td>      <th>                     </th>     <td> </td>    \n",
       "</tr>\n",
       "</table>\n",
       "<table class=\"simpletable\">\n",
       "<tr>\n",
       "    <td></td>       <th>coef</th>     <th>std err</th>      <th>t</th>      <th>P>|t|</th>  <th>[0.025</th>    <th>0.975]</th>  \n",
       "</tr>\n",
       "<tr>\n",
       "  <th>const</th> <td>  -23.8211</td> <td>    1.184</td> <td>  -20.119</td> <td> 0.000</td> <td>  -26.145</td> <td>  -21.497</td>\n",
       "</tr>\n",
       "<tr>\n",
       "  <th>W/C</th>   <td>  -41.3692</td> <td>    1.048</td> <td>  -39.470</td> <td> 0.000</td> <td>  -43.427</td> <td>  -39.312</td>\n",
       "</tr>\n",
       "<tr>\n",
       "  <th>Age</th>   <td>    8.4312</td> <td>    0.238</td> <td>   35.370</td> <td> 0.000</td> <td>    7.963</td> <td>    8.899</td>\n",
       "</tr>\n",
       "</table>\n",
       "<table class=\"simpletable\">\n",
       "<tr>\n",
       "  <th>Omnibus:</th>       <td>14.484</td> <th>  Durbin-Watson:     </th> <td>   1.989</td>\n",
       "</tr>\n",
       "<tr>\n",
       "  <th>Prob(Omnibus):</th> <td> 0.001</td> <th>  Jarque-Bera (JB):  </th> <td>  26.029</td>\n",
       "</tr>\n",
       "<tr>\n",
       "  <th>Skew:</th>          <td> 0.023</td> <th>  Prob(JB):          </th> <td>2.23e-06</td>\n",
       "</tr>\n",
       "<tr>\n",
       "  <th>Kurtosis:</th>      <td> 3.886</td> <th>  Cond. No.          </th> <td>    19.1</td>\n",
       "</tr>\n",
       "</table><br/><br/>Warnings:<br/>[1] Standard Errors assume that the covariance matrix of the errors is correctly specified."
      ],
      "text/plain": [
       "<class 'statsmodels.iolib.summary.Summary'>\n",
       "\"\"\"\n",
       "                             OLS Regression Results                            \n",
       "===============================================================================\n",
       "Dep. Variable:     CompressiveStrength   R-squared:                       0.769\n",
       "Model:                             OLS   Adj. R-squared:                  0.768\n",
       "Method:                  Least Squares   F-statistic:                     1314.\n",
       "Date:                 Tue, 10 Mar 2020   Prob (F-statistic):          5.40e-252\n",
       "Time:                         11:14:52   Log-Likelihood:                -2755.5\n",
       "No. Observations:                  793   AIC:                             5517.\n",
       "Df Residuals:                      790   BIC:                             5531.\n",
       "Df Model:                            2                                         \n",
       "Covariance Type:             nonrobust                                         \n",
       "==============================================================================\n",
       "                 coef    std err          t      P>|t|      [0.025      0.975]\n",
       "------------------------------------------------------------------------------\n",
       "const        -23.8211      1.184    -20.119      0.000     -26.145     -21.497\n",
       "W/C          -41.3692      1.048    -39.470      0.000     -43.427     -39.312\n",
       "Age            8.4312      0.238     35.370      0.000       7.963       8.899\n",
       "==============================================================================\n",
       "Omnibus:                       14.484   Durbin-Watson:                   1.989\n",
       "Prob(Omnibus):                  0.001   Jarque-Bera (JB):               26.029\n",
       "Skew:                           0.023   Prob(JB):                     2.23e-06\n",
       "Kurtosis:                       3.886   Cond. No.                         19.1\n",
       "==============================================================================\n",
       "\n",
       "Warnings:\n",
       "[1] Standard Errors assume that the covariance matrix of the errors is correctly specified.\n",
       "\"\"\""
      ]
     },
     "execution_count": 290,
     "metadata": {},
     "output_type": "execute_result"
    }
   ],
   "source": [
    "xtrain4=np.log(xtrain[['W/C','Age']])\n",
    "xtrain4=stm.add_constant(xtrain4)\n",
    "model3=stm.OLS(ytrain,xtrain4).fit() #ordinary least squares regression\n",
    "model3.summary()"
   ]
  },
  {
   "cell_type": "code",
   "execution_count": 295,
   "metadata": {
    "ExecuteTime": {
     "end_time": "2020-03-10T05:47:43.842471Z",
     "start_time": "2020-03-10T05:47:43.584533Z"
    }
   },
   "outputs": [
    {
     "data": {
      "text/plain": [
       "<matplotlib.collections.PathCollection at 0x1baeb9b06c8>"
      ]
     },
     "execution_count": 295,
     "metadata": {},
     "output_type": "execute_result"
    },
    {
     "data": {
      "image/png": "[encoded data removed]",
      "text/plain": [
       "<Figure size 432x180 with 1 Axes>"
      ]
     },
     "metadata": {
      "needs_background": "light"
     },
     "output_type": "display_data"
    }
   ],
   "source": [
    "pred_val = model3.fittedvalues\n",
    "residual = ytrain - pred_val\n",
    "fig, ax = plt.subplots(figsize=(6,2.5))\n",
    "ax.scatter(pred_val,residual)"
   ]
  },
  {
   "cell_type": "code",
   "execution_count": 288,
   "metadata": {
    "ExecuteTime": {
     "end_time": "2020-03-10T05:42:19.386369Z",
     "start_time": "2020-03-10T05:42:19.375401Z"
    }
   },
   "outputs": [
    {
     "data": {
      "text/plain": [
       "668   -2.819205\n",
       "627   -3.056051\n",
       "605   -6.451193\n",
       "617   -4.254755\n",
       "652   -2.819205\n",
       "688   -2.753965\n",
       "551   -2.819205\n",
       "dtype: float64"
      ]
     },
     "execution_count": 288,
     "metadata": {},
     "output_type": "execute_result"
    }
   ],
   "source": [
    "model.fittedvalues[model3.fittedvalues<0]"
   ]
  },
  {
   "cell_type": "markdown",
   "metadata": {},
   "source": [
    "Not transforming dependent variable while transforming the independent ones still results in negative predictions."
   ]
  },
  {
   "cell_type": "code",
   "execution_count": 293,
   "metadata": {
    "ExecuteTime": {
     "end_time": "2020-03-10T05:45:25.984411Z",
     "start_time": "2020-03-10T05:45:25.975435Z"
    }
   },
   "outputs": [
    {
     "data": {
      "text/plain": [
       "(37.03000823660104,\n",
       " 9.099884477353353e-09,\n",
       " 19.348457495433582,\n",
       " 6.257355577941124e-09)"
      ]
     },
     "execution_count": 293,
     "metadata": {},
     "output_type": "execute_result"
    }
   ],
   "source": [
    "het_breuschpagan(model3.resid,train3)"
   ]
  },
  {
   "cell_type": "code",
   "execution_count": 370,
   "metadata": {
    "ExecuteTime": {
     "end_time": "2020-03-10T06:36:53.572878Z",
     "start_time": "2020-03-10T06:36:53.560908Z"
    }
   },
   "outputs": [
    {
     "data": {
      "text/html": [
       "<div>\n",
       "<style scoped>\n",
       "    .dataframe tbody tr th:only-of-type {\n",
       "        vertical-align: middle;\n",
       "    }\n",
       "\n",
       "    .dataframe tbody tr th {\n",
       "        vertical-align: top;\n",
       "    }\n",
       "\n",
       "    .dataframe thead th {\n",
       "        text-align: right;\n",
       "    }\n",
       "</style>\n",
       "<table border=\"1\" class=\"dataframe\">\n",
       "  <thead>\n",
       "    <tr style=\"text-align: right;\">\n",
       "      <th></th>\n",
       "      <th>const</th>\n",
       "      <th>W/C</th>\n",
       "      <th>LAge</th>\n",
       "    </tr>\n",
       "  </thead>\n",
       "  <tbody>\n",
       "    <tr>\n",
       "      <td>713</td>\n",
       "      <td>1.0</td>\n",
       "      <td>0.488550</td>\n",
       "      <td>1.098612</td>\n",
       "    </tr>\n",
       "    <tr>\n",
       "      <td>639</td>\n",
       "      <td>1.0</td>\n",
       "      <td>0.467500</td>\n",
       "      <td>3.332205</td>\n",
       "    </tr>\n",
       "    <tr>\n",
       "      <td>709</td>\n",
       "      <td>1.0</td>\n",
       "      <td>0.664360</td>\n",
       "      <td>4.499810</td>\n",
       "    </tr>\n",
       "    <tr>\n",
       "      <td>90</td>\n",
       "      <td>1.0</td>\n",
       "      <td>0.252030</td>\n",
       "      <td>1.098612</td>\n",
       "    </tr>\n",
       "    <tr>\n",
       "      <td>108</td>\n",
       "      <td>1.0</td>\n",
       "      <td>0.289994</td>\n",
       "      <td>1.945910</td>\n",
       "    </tr>\n",
       "    <tr>\n",
       "      <td>...</td>\n",
       "      <td>...</td>\n",
       "      <td>...</td>\n",
       "      <td>...</td>\n",
       "    </tr>\n",
       "    <tr>\n",
       "      <td>491</td>\n",
       "      <td>1.0</td>\n",
       "      <td>0.313373</td>\n",
       "      <td>1.945910</td>\n",
       "    </tr>\n",
       "    <tr>\n",
       "      <td>529</td>\n",
       "      <td>1.0</td>\n",
       "      <td>0.296724</td>\n",
       "      <td>4.025352</td>\n",
       "    </tr>\n",
       "    <tr>\n",
       "      <td>691</td>\n",
       "      <td>1.0</td>\n",
       "      <td>0.575998</td>\n",
       "      <td>1.098612</td>\n",
       "    </tr>\n",
       "    <tr>\n",
       "      <td>498</td>\n",
       "      <td>1.0</td>\n",
       "      <td>0.307856</td>\n",
       "      <td>3.332205</td>\n",
       "    </tr>\n",
       "    <tr>\n",
       "      <td>719</td>\n",
       "      <td>1.0</td>\n",
       "      <td>0.488010</td>\n",
       "      <td>4.499810</td>\n",
       "    </tr>\n",
       "  </tbody>\n",
       "</table>\n",
       "<p>199 rows × 3 columns</p>\n",
       "</div>"
      ],
      "text/plain": [
       "     const       W/C      LAge\n",
       "713    1.0  0.488550  1.098612\n",
       "639    1.0  0.467500  3.332205\n",
       "709    1.0  0.664360  4.499810\n",
       "90     1.0  0.252030  1.098612\n",
       "108    1.0  0.289994  1.945910\n",
       "..     ...       ...       ...\n",
       "491    1.0  0.313373  1.945910\n",
       "529    1.0  0.296724  4.025352\n",
       "691    1.0  0.575998  1.098612\n",
       "498    1.0  0.307856  3.332205\n",
       "719    1.0  0.488010  4.499810\n",
       "\n",
       "[199 rows x 3 columns]"
      ]
     },
     "execution_count": 370,
     "metadata": {},
     "output_type": "execute_result"
    }
   ],
   "source": [
    "xtest"
   ]
  },
  {
   "cell_type": "code",
   "execution_count": 372,
   "metadata": {
    "ExecuteTime": {
     "end_time": "2020-03-10T06:37:18.956924Z",
     "start_time": "2020-03-10T06:37:18.942911Z"
    }
   },
   "outputs": [
    {
     "name": "stdout",
     "output_type": "stream",
     "text": [
      "RSS: 567.2083843787073\n"
     ]
    }
   ],
   "source": [
    "xtest1=xtest.loc[:,['W/C','Age']]\n",
    "xtest1['LAge']=np.log(xtest1['Age'])\n",
    "xtest1 = stm.add_constant(xtest1.drop('Age',axis=1))\n",
    "ytest1=np.log(ytest)\n",
    "pred = model2.predict(xtest1)\n",
    "#RSS\n",
    "rss=np.sum((pred - ytest1)**2)\n",
    "print(\"RSS:\",rss)"
   ]
  },
  {
   "cell_type": "code",
   "execution_count": 243,
   "metadata": {
    "ExecuteTime": {
     "end_time": "2020-03-09T17:22:50.738216Z",
     "start_time": "2020-03-09T17:22:50.734260Z"
    }
   },
   "outputs": [
    {
     "name": "stdout",
     "output_type": "stream",
     "text": [
      "RMSE: 8.91733892391561\n"
     ]
    }
   ],
   "source": [
    "#RMSE\n",
    "rmse=(rss/len(ytest))**0.5\n",
    "print('RMSE:',rmse)"
   ]
  },
  {
   "cell_type": "code",
   "execution_count": 374,
   "metadata": {
    "ExecuteTime": {
     "end_time": "2020-03-10T06:40:13.433301Z",
     "start_time": "2020-03-10T06:40:13.426349Z"
    }
   },
   "outputs": [
    {
     "name": "stdout",
     "output_type": "stream",
     "text": [
      "48.06809966896204\n"
     ]
    }
   ],
   "source": [
    "mape=np.sum(np.abs((model.predict(xtest1)-ytest1))/ytest1)/len(ytest1)*100\n",
    "print(mape)"
   ]
  },
  {
   "cell_type": "markdown",
   "metadata": {},
   "source": [
    "### Random Forest regressor"
   ]
  },
  {
   "cell_type": "code",
   "execution_count": 441,
   "metadata": {
    "ExecuteTime": {
     "end_time": "2020-03-10T15:37:07.335321Z",
     "start_time": "2020-03-10T15:37:07.327375Z"
    }
   },
   "outputs": [],
   "source": [
    "conc1=conc.copy()"
   ]
  },
  {
   "cell_type": "code",
   "execution_count": 442,
   "metadata": {
    "ExecuteTime": {
     "end_time": "2020-03-10T15:37:07.905515Z",
     "start_time": "2020-03-10T15:37:07.896543Z"
    }
   },
   "outputs": [],
   "source": [
    "conc1['Cementitious']=conc1['Cement']+conc1['FlyAsh']+conc1['BFS']\n",
    "conc1['W/C']=conc1['Water']/conc1['Cementitious']"
   ]
  },
  {
   "cell_type": "code",
   "execution_count": 443,
   "metadata": {
    "ExecuteTime": {
     "end_time": "2020-03-10T15:37:09.714878Z",
     "start_time": "2020-03-10T15:37:08.579914Z"
    }
   },
   "outputs": [
    {
     "data": {
      "text/plain": [
       "RandomForestRegressor(bootstrap=True, criterion='mse', max_depth=None,\n",
       "                      max_features='auto', max_leaf_nodes=None,\n",
       "                      min_impurity_decrease=0.0, min_impurity_split=None,\n",
       "                      min_samples_leaf=1, min_samples_split=2,\n",
       "                      min_weight_fraction_leaf=0.0, n_estimators=500, n_jobs=-1,\n",
       "                      oob_score=True, random_state=None, verbose=0,\n",
       "                      warm_start=False)"
      ]
     },
     "execution_count": 443,
     "metadata": {},
     "output_type": "execute_result"
    }
   ],
   "source": [
    "model4=rfr(oob_score=True,n_estimators=500,n_jobs=-1)\n",
    "model4.fit(conc1.drop('CompressiveStrength',axis=1),conc1['CompressiveStrength'])"
   ]
  },
  {
   "cell_type": "code",
   "execution_count": 444,
   "metadata": {
    "ExecuteTime": {
     "end_time": "2020-03-10T15:37:10.584956Z",
     "start_time": "2020-03-10T15:37:10.575960Z"
    }
   },
   "outputs": [
    {
     "data": {
      "text/plain": [
       "0.932302240928658"
      ]
     },
     "execution_count": 444,
     "metadata": {},
     "output_type": "execute_result"
    }
   ],
   "source": [
    "model4.oob_score_"
   ]
  },
  {
   "cell_type": "code",
   "execution_count": 445,
   "metadata": {
    "ExecuteTime": {
     "end_time": "2020-03-10T15:37:14.086614Z",
     "start_time": "2020-03-10T15:37:13.963911Z"
    }
   },
   "outputs": [
    {
     "data": {
      "text/plain": [
       "0.9907075186461797"
      ]
     },
     "execution_count": 445,
     "metadata": {},
     "output_type": "execute_result"
    }
   ],
   "source": [
    "pred=model4.predict(conc1.drop('CompressiveStrength',axis=1))\n",
    "r2_score(conc1['CompressiveStrength'],pred)"
   ]
  },
  {
   "cell_type": "markdown",
   "metadata": {
    "ExecuteTime": {
     "end_time": "2020-03-10T06:22:02.452861Z",
     "start_time": "2020-03-10T06:22:02.447840Z"
    }
   },
   "source": [
    "Better r squared values on both training and out of bag observations than linear regression."
   ]
  },
  {
   "cell_type": "code",
   "execution_count": 446,
   "metadata": {
    "ExecuteTime": {
     "end_time": "2020-03-10T15:37:18.284115Z",
     "start_time": "2020-03-10T15:37:18.272144Z"
    }
   },
   "outputs": [
    {
     "name": "stdout",
     "output_type": "stream",
     "text": [
      "MAPE: 11.014366178491189\n"
     ]
    }
   ],
   "source": [
    "pred=model4.oob_prediction_\n",
    "mape=np.sum(np.abs((model4.oob_prediction_-conc1['CompressiveStrength']))/conc1['CompressiveStrength'])/len(conc1['CompressiveStrength'])*100\n",
    "print('MAPE:',mape)"
   ]
  },
  {
   "cell_type": "markdown",
   "metadata": {},
   "source": [
    "#### Optimizing random forest"
   ]
  },
  {
   "cell_type": "markdown",
   "metadata": {},
   "source": [
    "We will get a rough estimate for max depth using a simple decision tree."
   ]
  },
  {
   "cell_type": "code",
   "execution_count": 491,
   "metadata": {
    "ExecuteTime": {
     "end_time": "2020-03-10T16:29:55.809252Z",
     "start_time": "2020-03-10T16:29:55.791268Z"
    }
   },
   "outputs": [
    {
     "data": {
      "text/plain": [
       "25"
      ]
     },
     "execution_count": 491,
     "metadata": {},
     "output_type": "execute_result"
    }
   ],
   "source": [
    "model5=DecisionTreeRegressor().fit(conc1.drop('CompressiveStrength',axis=1),conc1['CompressiveStrength'])\n",
    "model5.get_depth()"
   ]
  },
  {
   "cell_type": "code",
   "execution_count": 449,
   "metadata": {
    "ExecuteTime": {
     "end_time": "2020-03-10T15:38:02.053148Z",
     "start_time": "2020-03-10T15:38:02.045165Z"
    }
   },
   "outputs": [],
   "source": [
    "# Number of trees in random forest\n",
    "n_estimators = np.arange(50,551,50)\n",
    "# Number of features to consider at every split\n",
    "max_features = ['auto', 'sqrt','log2']\n",
    "# Maximum number of levels in tree\n",
    "max_depth = np.arange(2,30,3)\n",
    "# Minimum number of samples required to split a node\n",
    "min_samples_split = [2,5,10]\n",
    "# Minimum number of samples required at each leaf node\n",
    "min_samples_leaf = [1,2,4]\n",
    "# Method of selecting samples for training each tree\n",
    "grid = {'n_estimators': n_estimators,\n",
    "               'max_features': max_features,\n",
    "               'max_depth': max_depth,\n",
    "               'min_samples_split': min_samples_split,\n",
    "               'min_samples_leaf': min_samples_leaf,}"
   ]
  },
  {
   "cell_type": "code",
   "execution_count": 450,
   "metadata": {
    "ExecuteTime": {
     "end_time": "2020-03-10T15:51:15.199363Z",
     "start_time": "2020-03-10T15:38:07.293880Z"
    }
   },
   "outputs": [
    {
     "name": "stderr",
     "output_type": "stream",
     "text": [
      "D:\\Software\\Anaconda\\lib\\site-packages\\sklearn\\model_selection\\_split.py:1978: FutureWarning: The default value of cv will change from 3 to 5 in version 0.22. Specify it explicitly to silence this warning.\n",
      "  warnings.warn(CV_WARNING, FutureWarning)\n",
      "[Parallel(n_jobs=-1)]: Using backend LokyBackend with 12 concurrent workers.\n"
     ]
    },
    {
     "name": "stdout",
     "output_type": "stream",
     "text": [
      "Fitting 3 folds for each of 2970 candidates, totalling 8910 fits\n"
     ]
    },
    {
     "name": "stderr",
     "output_type": "stream",
     "text": [
      "[Parallel(n_jobs=-1)]: Done  17 tasks      | elapsed:   13.3s\n",
      "[Parallel(n_jobs=-1)]: Done 138 tasks      | elapsed:   21.6s\n",
      "[Parallel(n_jobs=-1)]: Done 341 tasks      | elapsed:   35.1s\n",
      "[Parallel(n_jobs=-1)]: Done 624 tasks      | elapsed:   51.7s\n",
      "[Parallel(n_jobs=-1)]: Done 989 tasks      | elapsed:  1.3min\n",
      "[Parallel(n_jobs=-1)]: Done 1434 tasks      | elapsed:  1.8min\n",
      "[Parallel(n_jobs=-1)]: Done 1961 tasks      | elapsed:  2.5min\n",
      "[Parallel(n_jobs=-1)]: Done 2568 tasks      | elapsed:  3.4min\n",
      "[Parallel(n_jobs=-1)]: Done 3257 tasks      | elapsed:  4.5min\n",
      "[Parallel(n_jobs=-1)]: Done 4026 tasks      | elapsed:  5.7min\n",
      "[Parallel(n_jobs=-1)]: Done 4877 tasks      | elapsed:  7.0min\n",
      "[Parallel(n_jobs=-1)]: Done 5808 tasks      | elapsed:  8.5min\n",
      "[Parallel(n_jobs=-1)]: Done 6821 tasks      | elapsed: 10.2min\n",
      "[Parallel(n_jobs=-1)]: Done 7914 tasks      | elapsed: 11.8min\n",
      "[Parallel(n_jobs=-1)]: Done 8910 out of 8910 | elapsed: 13.1min finished\n",
      "D:\\Software\\Anaconda\\lib\\site-packages\\sklearn\\model_selection\\_search.py:814: DeprecationWarning: The default of the `iid` parameter will change from True to False in version 0.22 and will be removed in 0.24. This will change numeric results when test-set sizes are unequal.\n",
      "  DeprecationWarning)\n"
     ]
    },
    {
     "data": {
      "text/plain": [
       "GridSearchCV(cv='warn', error_score='raise-deprecating',\n",
       "             estimator=RandomForestRegressor(bootstrap=True, criterion='mse',\n",
       "                                             max_depth=None,\n",
       "                                             max_features='auto',\n",
       "                                             max_leaf_nodes=None,\n",
       "                                             min_impurity_decrease=0.0,\n",
       "                                             min_impurity_split=None,\n",
       "                                             min_samples_leaf=1,\n",
       "                                             min_samples_split=2,\n",
       "                                             min_weight_fraction_leaf=0.0,\n",
       "                                             n_estimators='warn', n_jobs=None,\n",
       "                                             oob_score=False, random_stat...\n",
       "                                             verbose=0, warm_start=False),\n",
       "             iid='warn', n_jobs=-1,\n",
       "             param_grid={'max_depth': array([ 2,  5,  8, 11, 14, 17, 20, 23, 26, 29]),\n",
       "                         'max_features': ['auto', 'sqrt', 'log2'],\n",
       "                         'min_samples_leaf': [1, 2, 4],\n",
       "                         'min_samples_split': [2, 5, 10],\n",
       "                         'n_estimators': array([ 50, 100, 150, 200, 250, 300, 350, 400, 450, 500, 550])},\n",
       "             pre_dispatch='2*n_jobs', refit=True, return_train_score=False,\n",
       "             scoring=None, verbose=2)"
      ]
     },
     "execution_count": 450,
     "metadata": {},
     "output_type": "execute_result"
    }
   ],
   "source": [
    "rf = rfr(oob_score=False)\n",
    "rf1=GridSearchCV(rf,grid,n_jobs=-1,verbose=2)\n",
    "rf1.fit(conc1.drop('CompressiveStrength',axis=1),conc1['CompressiveStrength'])"
   ]
  },
  {
   "cell_type": "code",
   "execution_count": 451,
   "metadata": {
    "ExecuteTime": {
     "end_time": "2020-03-10T16:01:47.087860Z",
     "start_time": "2020-03-10T16:01:47.076887Z"
    }
   },
   "outputs": [
    {
     "data": {
      "text/plain": [
       "RandomForestRegressor(bootstrap=True, criterion='mse', max_depth=20,\n",
       "                      max_features='auto', max_leaf_nodes=None,\n",
       "                      min_impurity_decrease=0.0, min_impurity_split=None,\n",
       "                      min_samples_leaf=1, min_samples_split=2,\n",
       "                      min_weight_fraction_leaf=0.0, n_estimators=50,\n",
       "                      n_jobs=None, oob_score=False, random_state=None,\n",
       "                      verbose=0, warm_start=False)"
      ]
     },
     "execution_count": 451,
     "metadata": {},
     "output_type": "execute_result"
    }
   ],
   "source": [
    "rf1.best_estimator_"
   ]
  },
  {
   "cell_type": "markdown",
   "metadata": {},
   "source": [
    "Fitting a model with parameters obtained from grid search."
   ]
  },
  {
   "cell_type": "code",
   "execution_count": 452,
   "metadata": {
    "ExecuteTime": {
     "end_time": "2020-03-10T16:02:01.940418Z",
     "start_time": "2020-03-10T16:02:01.774856Z"
    }
   },
   "outputs": [
    {
     "data": {
      "text/plain": [
       "RandomForestRegressor(bootstrap=True, criterion='mse', max_depth=20,\n",
       "                      max_features='auto', max_leaf_nodes=None,\n",
       "                      min_impurity_decrease=0.0, min_impurity_split=None,\n",
       "                      min_samples_leaf=1, min_samples_split=2,\n",
       "                      min_weight_fraction_leaf=0.0, n_estimators=50, n_jobs=-1,\n",
       "                      oob_score=True, random_state=None, verbose=0,\n",
       "                      warm_start=False)"
      ]
     },
     "execution_count": 452,
     "metadata": {},
     "output_type": "execute_result"
    }
   ],
   "source": [
    "modelfin=rfr(n_estimators=50,n_jobs=-1,max_depth=20,oob_score=True)\n",
    "modelfin.fit(conc1.drop('CompressiveStrength',axis=1),conc1['CompressiveStrength'])"
   ]
  },
  {
   "cell_type": "code",
   "execution_count": 453,
   "metadata": {
    "ExecuteTime": {
     "end_time": "2020-03-10T16:02:05.350400Z",
     "start_time": "2020-03-10T16:02:05.227758Z"
    }
   },
   "outputs": [
    {
     "name": "stdout",
     "output_type": "stream",
     "text": [
      "R squared value for training data: 0.9901224505355393\n",
      "OOB R squared value: 0.925884950852585\n"
     ]
    }
   ],
   "source": [
    "pred=modelfin.predict(conc1.drop('CompressiveStrength',axis=1))\n",
    "print('R squared value for training data:',r2_score(conc1['CompressiveStrength'],pred))\n",
    "print('OOB R squared value:',modelfin.oob_score_)"
   ]
  },
  {
   "cell_type": "code",
   "execution_count": 454,
   "metadata": {
    "ExecuteTime": {
     "end_time": "2020-03-10T16:02:07.731114Z",
     "start_time": "2020-03-10T16:02:07.721141Z"
    }
   },
   "outputs": [
    {
     "name": "stdout",
     "output_type": "stream",
     "text": [
      "MAPE: 11.014366178491189\n"
     ]
    }
   ],
   "source": [
    "pred=modelfin.oob_prediction_\n",
    "mape=np.sum(np.abs((model4.oob_prediction_-conc1['CompressiveStrength']))/conc1['CompressiveStrength'])/len(conc1['CompressiveStrength'])*100\n",
    "print('MAPE:',mape)"
   ]
  },
  {
   "cell_type": "markdown",
   "metadata": {},
   "source": [
    "#### Prediction & Water Demand"
   ]
  },
  {
   "cell_type": "markdown",
   "metadata": {},
   "source": [
    "For completing hydration process and filling the gel pores cement typically required about 0.38 times its weight of water under ideal conditions. But the obtained mix will be very stiff and not workable (slump around 25mm). <br>\n",
    "IS 10262 gives a guideline: for every 25mm increase in slump required water required is increased by 3%."
   ]
  },
  {
   "cell_type": "code",
   "execution_count": 457,
   "metadata": {
    "ExecuteTime": {
     "end_time": "2020-03-10T16:07:07.536148Z",
     "start_time": "2020-03-10T16:06:56.798269Z"
    }
   },
   "outputs": [
    {
     "name": "stdout",
     "output_type": "stream",
     "text": [
      "Enter cement content:400\n",
      "Enter flyash content:0\n",
      "Enter GGBS content:0\n",
      "Enter water content:150\n",
      "Enter slump required:200\n",
      "Enter age in days @ which prediction is required:28\n",
      "Enter WR or HWR or NO for type of admixture used(water reducer, high range water reducer and no admixture):wr\n",
      "Enter coarse aggregate content:800\n",
      "Enter fine aggregate content:800\n",
      "Water content is probably not enough\n"
     ]
    }
   ],
   "source": [
    "a={'wr':0.1,'hwr':0.2,'none':0}\n",
    "cement=float(input('Enter cement content:'))\n",
    "flyash=float(input('Enter flyash content:'))\n",
    "ggbs=float(input('Enter GGBS content:'))\n",
    "water=float(input('Enter water content:'))\n",
    "slump=float(input('Enter slump required:'))\n",
    "age=float(input('Enter age in days @ which prediction is required:'))\n",
    "admix=str(input('Enter WR or HWR or NO for type of admixture used(water reducer, high range water reducer and no admixture):'))\n",
    "ca=float(input('Enter coarse aggregate content:'))\n",
    "fa=float(input('Enter fine aggregate content:'))\n",
    "ac=cementitious*0.02\n",
    "cementitious=cement+flyash+ggbs\n",
    "test=pd.DataFrame({'Cement':cement,'GGBS':ggbs,'Flyash':flyash,'Water':water,'Admix':ac,'Coarse Agg':ca,'Fine agg':fa},index=[1])\n",
    "test['Age']=age\n",
    "test['Cementitious']=cementitious\n",
    "test['W/C']=water/cementitious\n",
    "if water<(0.38*cementitious+(0.38*cementitious*0.03*(slump-25)/25)-(0.38*cementitious+(0.25*cementitious*0.03*(slump-25)/25))*a[admix.lower()]):\n",
    "    print(\"Water content is probably not enough\")\n",
    "    print('Predicted compressive strength:',modelfin.predict(test)[0])\n",
    "elif (((cementitious/3000+water/1000+ac/1145+ca/2600+fa/2600) >0.9) & (cementitious/3000+water/1000+ac/1145+ca/2600+fa/2600<1.1)):\n",
    "    print('Predicted compressive strength:',modelfin.predict(test)[0])\n",
    "else:\n",
    "    print(f'Contents not adding upto 1cum, instead {(cementitious/3000+water/1000+ac/1145+ca/2600+fa/2600)}')"
   ]
  },
  {
   "cell_type": "code",
   "execution_count": 481,
   "metadata": {
    "ExecuteTime": {
     "end_time": "2020-03-10T16:18:55.626246Z",
     "start_time": "2020-03-10T16:18:55.611287Z"
    }
   },
   "outputs": [],
   "source": [
    "def pred(cem,fash,ggbs,water,slump,age,admix,ca,fa):\n",
    "    a={'wr':0.1,'hwr':0.2,'none':0}\n",
    "    cementitious=cem+fash+ggbs\n",
    "    ac=cementitious*0.02\n",
    "    cementitious=cem+fash+ggbs\n",
    "    test=pd.DataFrame({'Cement':cem,'GGBS':ggbs,'Flyash':fash,'Water':water,'Admix':ac,'Coarse Agg':ca,'Fine agg':fa},index=[1])\n",
    "    test['Age']=age\n",
    "    test['Cementitious']=cementitious\n",
    "    test['W/C']=water/cementitious\n",
    "    if water<(0.38*cementitious+(0.38*cementitious*0.03*(slump-25)/25)-(0.38*cementitious+(0.25*cementitious*0.03*(slump-25)/25))*a[admix.lower()]):\n",
    "        print(\"Water content is probably not enough\")\n",
    "        print('Predicted compressive strength:',round(modelfin.predict(test)[0],2),'MPA')\n",
    "    elif (((cementitious/3000+water/1000+ac/1145+ca/2600+fa/2600) >0.9) & (cementitious/3000+water/1000+ac/1145+ca/2600+fa/2600<1.1)):\n",
    "        print('Predicted compressive strength:',round(modelfin.predict(test)[0],2),'MPA')\n",
    "    else:\n",
    "        print(f'Contents volume comes to {(cementitious/3000+water/1000+ac/1145+ca/2600+fa/2600)} instead of 1cum')"
   ]
  },
  {
   "cell_type": "code",
   "execution_count": 490,
   "metadata": {
    "ExecuteTime": {
     "end_time": "2020-03-10T16:19:38.192277Z",
     "start_time": "2020-03-10T16:19:38.181300Z"
    }
   },
   "outputs": [
    {
     "name": "stdout",
     "output_type": "stream",
     "text": [
      "Contents volume comes to 0.8857048482812675 instead of 1cum\n"
     ]
    }
   ],
   "source": [
    "pred(400,0,0,130,50,28,'hwr',800,800)"
   ]
  }
 ],
 "metadata": {
  "kernelspec": {
   "display_name": "Python 3",
   "language": "python",
   "name": "python3"
  },
  "language_info": {
   "codemirror_mode": {
    "name": "ipython",
    "version": 3
   },
   "file_extension": ".py",
   "mimetype": "text/x-python",
   "name": "python",
   "nbconvert_exporter": "python",
   "pygments_lexer": "ipython3",
   "version": "3.7.4"
  },
  "toc": {
   "base_numbering": 1,
   "nav_menu": {},
   "number_sections": true,
   "sideBar": true,
   "skip_h1_title": false,
   "title_cell": "Table of Contents",
   "title_sidebar": "Contents",
   "toc_cell": true,
   "toc_position": {},
   "toc_section_display": true,
   "toc_window_display": false
  }
 },
 "nbformat": 4,
 "nbformat_minor": 2
}
