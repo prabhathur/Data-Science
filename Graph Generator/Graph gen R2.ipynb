{
 "cells": [
  {
   "cell_type": "code",
   "execution_count": 16,
   "metadata": {},
   "outputs": [],
   "source": [
    "#Function to plot the correct graph\n",
    "def plot(data,col,gratyp,name,targ=None):\n",
    "    import os\n",
    "    import pandas as pd\n",
    "    import matplotlib.pyplot as plt\n",
    "    import seaborn as sb\n",
    "    if gratyp=='hist':\n",
    "        gname='hist_'+str(col)\n",
    "        plt.figure(figsize=(12,10))\n",
    "        sb.distplot(data[col],kde=False)#Histogram using Seaborn\n",
    "        plt.ylabel('Count')\n",
    "        plt.savefig(gname+'.png',format='png',dpi=400) #Saving the graph as png format with a good dpi\n",
    "        plt.clf()\n",
    "    elif gratyp=='density':\n",
    "        gname='density_'+str(col)\n",
    "        plt.figure(figsize=(12,10))\n",
    "        sb.distplot(data[col],hist=False) #Density plot using Seaborn\n",
    "        plt.ylabel('Density')\n",
    "        plt.savefig(gname+'.png',format='png',dpi=400) #Saving the graph as png format with a good dpi\n",
    "        plt.clf()\n",
    "    elif gratyp=='scatter':\n",
    "        plt.figure(figsize=(12,10))\n",
    "        sb.lmplot(x=name,y=targ,data=data,fit_reg=False) #Scatter plot using Seaborn\n",
    "        gname='scatter_'+str(col)+'_vs_'+targ #Naming the graph\n",
    "        plt.savefig(gname+'.png',format='png',dpi=400) #Saving the graph as png format with a good dpi\n",
    "        plt.clf()\n",
    "    elif gratyp=='bar':\n",
    "        plt.figure(figsize=(12,10))    \n",
    "        plt.xticks(rotation='vertical')\n",
    "        sb.countplot(col,data=data) #Bar graphs using Seaborn\n",
    "        gname='bar_'+str(col) #Naming the graph\n",
    "        plt.savefig(gname+'.png',format='png',dpi=400)\n",
    "        plt.clf()\n",
    "    elif gratyp=='crosst':\n",
    "        plt.figure(figsize=(12,10))\n",
    "        sb.countplot(x=str(col),hue=targ,data=data) #Cross tab count graphs using seaborn\n",
    "        gname='crosstab_'+str(col)+'_vs_'+targ #Naming the graph\n",
    "        plt.savefig(gname+'.png',format='png',dpi=400) #Saving the graph as png format with a good dpi\n",
    "        plt.clf()\n",
    "    elif gratyp=='box':\n",
    "        plt.figure(figsize=(12,10))\n",
    "        sb.boxplot(data[col])\n",
    "        gname='box_'+str(col) #Naming the graph\n",
    "        plt.savefig(gname+'.png',format='png',dpi=400) #Saving the graph as png format with a good dpi\n",
    "        plt.clf()"
   ]
  },
  {
   "cell_type": "code",
   "execution_count": 9,
   "metadata": {},
   "outputs": [],
   "source": [
    "#Function to check the variable type of a column\n",
    "def vartype(data,col,direc):\n",
    "    import pandas as pd\n",
    "    import os\n",
    "    os.chdir(direc) #Changing working directory to the required one\n",
    "    file=pd.read_csv(data)\n",
    "    try:\n",
    "        file.loc[0,col] #Getting the column while is currently being iterated in graph function\n",
    "        #Deciding the proportion of unique values required in a column\n",
    "        if file.shape[0]<100:\n",
    "            prop=0.2\n",
    "        elif file.shape[0]<200:\n",
    "            prop=0.1\n",
    "        elif file.shape[0]<1000:\n",
    "            prop=0.05\n",
    "        else:\n",
    "            prop=0.03\n",
    "        if ((file[col].dtype=='float64' or file[col].dtype=='int64') and len(file[col].unique())>(prop*file.shape[0])):\n",
    "            vtype='num'\n",
    "            return(vtype)\n",
    "        else:\n",
    "            vtype='cat' \n",
    "            return(vtype)\n",
    "    except:\n",
    "        vtype='noexist'\n",
    "        return(vtype)\n",
    "                    "
   ]
  },
  {
   "cell_type": "code",
   "execution_count": 8,
   "metadata": {},
   "outputs": [],
   "source": [
    "#Function to handle folder for saving graphs\n",
    "def direcheck(direc,fname,graph):\n",
    "    import os\n",
    "    if not os.path.exists(direc+'\\\\'+fname[0:fname.find('.csv')]):#Checking if main folder exists\n",
    "        os.mkdir(fname[0:fname.find('.csv')]) #Making main directory if it doesnt exist\n",
    "        dire=direc+'\\\\'+fname[0:fname.find('.csv')] \n",
    "        os.chdir(dire) #Changing working directory to the main directory\n",
    "        os.mkdir(graph) #Creating sub directory indicating the type of graph\n",
    "        dire=direc+'\\\\'+fname[0:fname.find('.csv')]+'\\\\'+graph \n",
    "        os.chdir(dire) #Changing working directory to sub directory\n",
    "    else:\n",
    "        dire=direc+'\\\\'+fname[0:fname.find('.csv')] \n",
    "        os.chdir(dire)\n",
    "        if not os.path.exists(direc+'\\\\'+fname[0:fname.find('.csv')]+'\\\\'+graph): #If main directory exists we check for required sub directory\n",
    "            os.mkdir(graph) #If that doesnt exist a new sub directory is created\n",
    "            dire=direc+'\\\\'+fname[0:fname.find('.csv')]+'\\\\'+graph \n",
    "            os.chdir(dire) #Changing working directory to sub directory\n",
    "        else:\n",
    "            dire=direc+'\\\\'+fname[0:fname.find('.csv')]+'\\\\'+graph\n",
    "            os.chdir(dire) #If both main and sub directory exist we just change working directory to sub directory"
   ]
  },
  {
   "cell_type": "code",
   "execution_count": 18,
   "metadata": {},
   "outputs": [],
   "source": [
    "#Main graph function which we will call\n",
    "# Features- a) Takes target variable as argument to print scatter plots (if numerical) \n",
    "# b) Can apply log and sqrt transformation through optional argument\n",
    "# c) Take imputation as an optional argument to impute missing values by mean or mode\n",
    "# d) Folder management\n",
    "def graph(fname,col=None,direc='D:\\\\DS\\\\Machine learning\\\\Datasets',targ=None,transf=None,impu=None): #Set the direc path to your default dataset directory\n",
    "    import os\n",
    "    import pandas as pd\n",
    "    import matplotlib.pyplot as plt\n",
    "    import seaborn as sb\n",
    "    import numpy as np\n",
    "    plt.rc('figure', max_open_warning = 0)\n",
    "    try:\n",
    "        os.chdir(direc) #Set working directory\n",
    "    except:\n",
    "        print('Path doesnt exist.Exiting')\n",
    "        return\n",
    "    try:\n",
    "        read=pd.read_csv(fname) #Reading the dataset\n",
    "    except:\n",
    "        print('File doesnt exist')\n",
    "        return\n",
    "    if col==None:\n",
    "        colu=read.columns #Setting list of columns to be used for plotting\n",
    "    else:\n",
    "        if col.find(',')==-1:\n",
    "            colu=list([col]) #Setting list of columns to be used for plotting\n",
    "        else:\n",
    "            colu=col #Setting list of columns to be used for plotting\n",
    "    targtype=vartype(fname,targ,direc) #Checking variable type of target variable\n",
    "    if targtype=='noexist' and targ!=None:   \n",
    "        print('Target column doesnt exist')\n",
    "    if impu=='yes' or impu=='Yes':\n",
    "        for i in colu:\n",
    "            vtype=vartype(fname,i,direc)\n",
    "            if vtype=='num':\n",
    "                if read[i].isnull().sum()>0:\n",
    "                    read.loc[read[str(i)].isnull(),str(i)]=read[str(i)].mean() #Mean imputation\n",
    "            elif vtype=='cat':\n",
    "                if read[i].isnull().sum()>0:\n",
    "                    read.loc[read[str(i)].isnull(),str(i)]=read[str(i)].mode() #Mode imputation\n",
    "    for i in colu: #Iterating over the columns\n",
    "        vtype=vartype(fname,i,direc) #Checking variable type of currently iterating column\n",
    "        name=str(i)\n",
    "        if vtype=='num':\n",
    "            direcheck(direc,fname,'Histogram Graphs') #Checking directories\n",
    "            plot(read,i,'hist',name)\n",
    "            direcheck(direc,fname,'Density Plots') #Checking directories\n",
    "            plot(read,i,'density',name)\n",
    "            direcheck(direc,fname,'Box Plots') #Checking directories\n",
    "            plot(read,i,'box',name)\n",
    "            if targ!=None and targ!=name and targtype=='num':\n",
    "                direcheck(direc,fname,'Scatter Plots') #Checking directories\n",
    "                plot(read,i,'scatter',name,targ) #Call plot function\n",
    "            if transf!=None and targ!=None and targ!=name and targtype=='num':\n",
    "                if transf=='log':\n",
    "                    read['temp']=np.log(read[name])# Log transformation\n",
    "                    direcheck(direc,fname,'Log Transformed Scatter Plots') #Checking directories\n",
    "                    plot(read,i,'scatter','temp',targ)\n",
    "                if transf=='sqrt':\n",
    "                    read['temp']=np.sqrt(read[name]) # Sqrt transformation\n",
    "                    direcheck(direc,fname,'Sqrt Transformed Scatter Plots') #Checking directories\n",
    "                    plot(read,i,'scatter','temp',targ) #Calling plot function\n",
    "        elif vtype=='cat':\n",
    "            direcheck(direc,fname,'Bar Graphs') #Checking directories\n",
    "            plot(read,i,'bar',name)\n",
    "            if targ!=None and targ!=name and targtype=='cat':\n",
    "                direcheck(direc,fname,'CrossTab Graphs') #Checking directories\n",
    "                plot(read,i,'crosst',name)\n",
    "        else:\n",
    "            print('Column %s'%name+' doesnt exist')"
   ]
  },
  {
   "cell_type": "code",
   "execution_count": 23,
   "metadata": {},
   "outputs": [
    {
     "name": "stderr",
     "output_type": "stream",
     "text": [
      "D:\\Software\\Anaconda\\lib\\site-packages\\ipykernel_launcher.py:53: RuntimeWarning: divide by zero encountered in log\n"
     ]
    },
    {
     "data": {
      "text/plain": [
       "<Figure size 864x720 with 0 Axes>"
      ]
     },
     "metadata": {},
     "output_type": "display_data"
    },
    {
     "data": {
      "text/plain": [
       "<Figure size 864x720 with 0 Axes>"
      ]
     },
     "metadata": {},
     "output_type": "display_data"
    },
    {
     "data": {
      "text/plain": [
       "<Figure size 864x720 with 0 Axes>"
      ]
     },
     "metadata": {},
     "output_type": "display_data"
    },
    {
     "data": {
      "text/plain": [
       "<Figure size 864x720 with 0 Axes>"
      ]
     },
     "metadata": {},
     "output_type": "display_data"
    },
    {
     "data": {
      "text/plain": [
       "<Figure size 864x720 with 0 Axes>"
      ]
     },
     "metadata": {},
     "output_type": "display_data"
    },
    {
     "data": {
      "text/plain": [
       "<Figure size 864x720 with 0 Axes>"
      ]
     },
     "metadata": {},
     "output_type": "display_data"
    },
    {
     "data": {
      "text/plain": [
       "<Figure size 864x720 with 0 Axes>"
      ]
     },
     "metadata": {},
     "output_type": "display_data"
    },
    {
     "data": {
      "text/plain": [
       "<Figure size 864x720 with 0 Axes>"
      ]
     },
     "metadata": {},
     "output_type": "display_data"
    },
    {
     "data": {
      "text/plain": [
       "<Figure size 864x720 with 0 Axes>"
      ]
     },
     "metadata": {},
     "output_type": "display_data"
    },
    {
     "data": {
      "text/plain": [
       "<Figure size 360x360 with 0 Axes>"
      ]
     },
     "metadata": {},
     "output_type": "display_data"
    },
    {
     "data": {
      "text/plain": [
       "<Figure size 864x720 with 0 Axes>"
      ]
     },
     "metadata": {},
     "output_type": "display_data"
    },
    {
     "data": {
      "text/plain": [
       "<Figure size 360x360 with 0 Axes>"
      ]
     },
     "metadata": {},
     "output_type": "display_data"
    },
    {
     "data": {
      "text/plain": [
       "<Figure size 864x720 with 0 Axes>"
      ]
     },
     "metadata": {},
     "output_type": "display_data"
    },
    {
     "data": {
      "text/plain": [
       "<Figure size 864x720 with 0 Axes>"
      ]
     },
     "metadata": {},
     "output_type": "display_data"
    },
    {
     "data": {
      "text/plain": [
       "<Figure size 864x720 with 0 Axes>"
      ]
     },
     "metadata": {},
     "output_type": "display_data"
    },
    {
     "data": {
      "text/plain": [
       "<Figure size 864x720 with 0 Axes>"
      ]
     },
     "metadata": {},
     "output_type": "display_data"
    },
    {
     "data": {
      "text/plain": [
       "<Figure size 360x360 with 0 Axes>"
      ]
     },
     "metadata": {},
     "output_type": "display_data"
    },
    {
     "data": {
      "text/plain": [
       "<Figure size 864x720 with 0 Axes>"
      ]
     },
     "metadata": {},
     "output_type": "display_data"
    },
    {
     "data": {
      "text/plain": [
       "<Figure size 360x360 with 0 Axes>"
      ]
     },
     "metadata": {},
     "output_type": "display_data"
    },
    {
     "data": {
      "text/plain": [
       "<Figure size 864x720 with 0 Axes>"
      ]
     },
     "metadata": {},
     "output_type": "display_data"
    },
    {
     "data": {
      "text/plain": [
       "<Figure size 864x720 with 0 Axes>"
      ]
     },
     "metadata": {},
     "output_type": "display_data"
    },
    {
     "data": {
      "text/plain": [
       "<Figure size 864x720 with 0 Axes>"
      ]
     },
     "metadata": {},
     "output_type": "display_data"
    },
    {
     "data": {
      "text/plain": [
       "<Figure size 864x720 with 0 Axes>"
      ]
     },
     "metadata": {},
     "output_type": "display_data"
    },
    {
     "data": {
      "text/plain": [
       "<Figure size 360x360 with 0 Axes>"
      ]
     },
     "metadata": {},
     "output_type": "display_data"
    },
    {
     "data": {
      "text/plain": [
       "<Figure size 864x720 with 0 Axes>"
      ]
     },
     "metadata": {},
     "output_type": "display_data"
    },
    {
     "data": {
      "text/plain": [
       "<Figure size 360x360 with 0 Axes>"
      ]
     },
     "metadata": {},
     "output_type": "display_data"
    },
    {
     "data": {
      "text/plain": [
       "<Figure size 864x720 with 0 Axes>"
      ]
     },
     "metadata": {},
     "output_type": "display_data"
    },
    {
     "data": {
      "text/plain": [
       "<Figure size 864x720 with 0 Axes>"
      ]
     },
     "metadata": {},
     "output_type": "display_data"
    },
    {
     "data": {
      "text/plain": [
       "<Figure size 864x720 with 0 Axes>"
      ]
     },
     "metadata": {},
     "output_type": "display_data"
    },
    {
     "data": {
      "text/plain": [
       "<Figure size 864x720 with 0 Axes>"
      ]
     },
     "metadata": {},
     "output_type": "display_data"
    },
    {
     "data": {
      "text/plain": [
       "<Figure size 360x360 with 0 Axes>"
      ]
     },
     "metadata": {},
     "output_type": "display_data"
    },
    {
     "data": {
      "text/plain": [
       "<Figure size 864x720 with 0 Axes>"
      ]
     },
     "metadata": {},
     "output_type": "display_data"
    },
    {
     "data": {
      "text/plain": [
       "<Figure size 360x360 with 0 Axes>"
      ]
     },
     "metadata": {},
     "output_type": "display_data"
    },
    {
     "data": {
      "text/plain": [
       "<Figure size 864x720 with 0 Axes>"
      ]
     },
     "metadata": {},
     "output_type": "display_data"
    },
    {
     "data": {
      "text/plain": [
       "<Figure size 864x720 with 0 Axes>"
      ]
     },
     "metadata": {},
     "output_type": "display_data"
    }
   ],
   "source": [
    "graph('cars.csv',targ='MPG',transf='log')"
   ]
  }
 ],
 "metadata": {
  "kernelspec": {
   "display_name": "Python 3",
   "language": "python",
   "name": "python3"
  },
  "language_info": {
   "codemirror_mode": {
    "name": "ipython",
    "version": 3
   },
   "file_extension": ".py",
   "mimetype": "text/x-python",
   "name": "python",
   "nbconvert_exporter": "python",
   "pygments_lexer": "ipython3",
   "version": "3.7.3"
  }
 },
 "nbformat": 4,
 "nbformat_minor": 2
}
